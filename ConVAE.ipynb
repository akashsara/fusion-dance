{
 "cells": [
  {
   "cell_type": "code",
   "execution_count": 74,
   "id": "worst-point",
   "metadata": {},
   "outputs": [],
   "source": [
    "import torch\n",
    "import numpy as np\n",
    "import matplotlib.pyplot as plt\n",
    "from PIL import Image"
   ]
  },
  {
   "cell_type": "code",
   "execution_count": 75,
   "id": "vulnerable-swedish",
   "metadata": {},
   "outputs": [],
   "source": [
    "import os"
   ]
  },
  {
   "cell_type": "markdown",
   "id": "killing-performance",
   "metadata": {},
   "source": [
    "# Load Dataset"
   ]
  },
  {
   "cell_type": "code",
   "execution_count": 76,
   "id": "needed-eating",
   "metadata": {},
   "outputs": [],
   "source": [
    "def load_images_from_folder(folder):\n",
    "    dataset = []\n",
    "    for file in os.listdir(folder):\n",
    "        image = np.asarray(Image.open(os.path.join(folder, file)))\n",
    "        dataset.append(image)\n",
    "    dataset = np.asarray(dataset)\n",
    "    return dataset"
   ]
  },
  {
   "cell_type": "code",
   "execution_count": 77,
   "id": "current-joseph",
   "metadata": {},
   "outputs": [],
   "source": [
    "def preprocess_dataset(dataset):\n",
    "    # Normalize to 0-1\n",
    "    dataset = dataset / 255.0\n",
    "    np.random.shuffle(dataset)\n",
    "    return dataset"
   ]
  },
  {
   "cell_type": "code",
   "execution_count": 78,
   "id": "smoking-abuse",
   "metadata": {},
   "outputs": [],
   "source": [
    "train = preprocess_dataset(load_images_from_folder(\"data/train/\"))"
   ]
  },
  {
   "cell_type": "code",
   "execution_count": 79,
   "id": "marine-above",
   "metadata": {},
   "outputs": [],
   "source": [
    "val = preprocess_dataset(load_images_from_folder(\"data/val/\"))"
   ]
  },
  {
   "cell_type": "code",
   "execution_count": 80,
   "id": "honey-aside",
   "metadata": {},
   "outputs": [],
   "source": [
    "test = preprocess_dataset(load_images_from_folder(\"data/test/\"))"
   ]
  },
  {
   "cell_type": "code",
   "execution_count": 81,
   "id": "constant-factory",
   "metadata": {},
   "outputs": [
    {
     "data": {
      "text/plain": [
       "((5856, 96, 96, 3), (440, 96, 96, 3), (448, 96, 96, 3))"
      ]
     },
     "execution_count": 81,
     "metadata": {},
     "output_type": "execute_result"
    }
   ],
   "source": [
    "train.shape, val.shape, test.shape"
   ]
  },
  {
   "cell_type": "markdown",
   "id": "special-gateway",
   "metadata": {},
   "source": [
    "# Visualize Some Examples"
   ]
  },
  {
   "cell_type": "code",
   "execution_count": 82,
   "id": "perceived-guest",
   "metadata": {},
   "outputs": [],
   "source": [
    "def array2img(array):\n",
    "    plt.imshow(array)"
   ]
  },
  {
   "cell_type": "code",
   "execution_count": 83,
   "id": "meaningful-small",
   "metadata": {},
   "outputs": [],
   "source": [
    "data = {\n",
    "    \"train\": train,\n",
    "    \"test\": test,\n",
    "    \"val\": val\n",
    "}"
   ]
  },
  {
   "cell_type": "code",
   "execution_count": 84,
   "id": "equal-knife",
   "metadata": {},
   "outputs": [
    {
     "data": {
      "image/png": "[encoded data removed]",
      "text/plain": [
       "<Figure size 432x288 with 6 Axes>"
      ]
     },
     "metadata": {
      "needs_background": "light"
     },
     "output_type": "display_data"
    }
   ],
   "source": [
    "for i, dataset in enumerate(data.keys()):\n",
    "    for j in range(2):\n",
    "        index = np.random.randint(0, data[dataset].shape[0])\n",
    "        axes = plt.subplot(2, 3, i+j*3+1)\n",
    "        array2img(data[dataset][index])\n",
    "        axes.set_title(f\"{dataset} ({index})\")\n",
    "plt.tight_layout()"
   ]
  },
  {
   "cell_type": "markdown",
   "id": "acquired-boring",
   "metadata": {},
   "source": [
    "# Model Time"
   ]
  },
  {
   "cell_type": "code",
   "execution_count": null,
   "id": "attempted-standing",
   "metadata": {},
   "outputs": [],
   "source": []
  },
  {
   "cell_type": "code",
   "execution_count": null,
   "id": "passive-shopper",
   "metadata": {},
   "outputs": [],
   "source": []
  },
  {
   "cell_type": "code",
   "execution_count": null,
   "id": "alleged-genre",
   "metadata": {},
   "outputs": [],
   "source": []
  },
  {
   "cell_type": "code",
   "execution_count": null,
   "id": "durable-boards",
   "metadata": {},
   "outputs": [],
   "source": []
  },
  {
   "cell_type": "code",
   "execution_count": null,
   "id": "ideal-logan",
   "metadata": {},
   "outputs": [],
   "source": []
  },
  {
   "cell_type": "code",
   "execution_count": null,
   "id": "bright-wheel",
   "metadata": {},
   "outputs": [],
   "source": []
  },
  {
   "cell_type": "code",
   "execution_count": null,
   "id": "greenhouse-payment",
   "metadata": {},
   "outputs": [],
   "source": []
  },
  {
   "cell_type": "code",
   "execution_count": null,
   "id": "equal-decimal",
   "metadata": {},
   "outputs": [],
   "source": []
  }
 ],
 "metadata": {
  "kernelspec": {
   "display_name": "Python 3",
   "language": "python",
   "name": "python3"
  },
  "language_info": {
   "codemirror_mode": {
    "name": "ipython",
    "version": 3
   },
   "file_extension": ".py",
   "mimetype": "text/x-python",
   "name": "python",
   "nbconvert_exporter": "python",
   "pygments_lexer": "ipython3",
   "version": "3.8.7"
  }
 },
 "nbformat": 4,
 "nbformat_minor": 5
}
