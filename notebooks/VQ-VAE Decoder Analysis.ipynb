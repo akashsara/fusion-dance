{
 "cells": [
  {
   "cell_type": "code",
   "execution_count": 1,
   "id": "gross-australian",
   "metadata": {},
   "outputs": [],
   "source": [
    "import os\n",
    "import sys\n",
    "\n",
    "import matplotlib.pyplot as plt\n",
    "import numpy as np\n",
    "import torch\n",
    "import torch.nn as nn\n",
    "import pytorch_msssim\n",
    "from tqdm import tqdm\n",
    "from PIL import Image\n",
    "\n",
    "sys.path.append(\"../\")\n",
    "import utils.data as data\n",
    "import utils.graphics as graphics\n",
    "import utils.loss as loss\n",
    "import models"
   ]
  },
  {
   "cell_type": "code",
   "execution_count": 2,
   "id": "ordinary-session",
   "metadata": {},
   "outputs": [],
   "source": [
    "seed = 42\n",
    "np.random.seed(seed)\n",
    "_ = torch.manual_seed(seed)"
   ]
  },
  {
   "cell_type": "code",
   "execution_count": 264,
   "id": "animal-effort",
   "metadata": {},
   "outputs": [],
   "source": [
    "batch_size = 64\n",
    "num_dataloader_workers = 0\n",
    "\n",
    "experiment_name = f\"vq_vae_v5.16\"\n",
    "\n",
    "num_layers = 2\n",
    "num_embeddings = 512\n",
    "embedding_dim = 64\n",
    "commitment_cost = 0.25\n",
    "use_max_filters = True\n",
    "max_filters = 512\n",
    "image_size = 64\n",
    "use_noise_images = True\n",
    "small_conv = True  # To use the 1x1 convolution layer\n",
    "encoding_dim = image_size // (2 ** num_layers)\n",
    "\n",
    "data_folder = \"..\\\\data\\\\Pokemon\\\\original_data\"\n",
    "\n",
    "output_dir = f\"..\\\\outputs\\\\{experiment_name}\"\n",
    "model_path = os.path.join(output_dir, \"model.pt\")"
   ]
  },
  {
   "cell_type": "code",
   "execution_count": 265,
   "id": "mature-canvas",
   "metadata": {},
   "outputs": [
    {
     "name": "stdout",
     "output_type": "stream",
     "text": [
      "False cpu\n"
     ]
    }
   ],
   "source": [
    "# Setup Device\n",
    "gpu = torch.cuda.is_available()\n",
    "device = torch.device(\"cuda\" if gpu else \"cpu\")\n",
    "print(gpu, device)\n",
    "\n",
    "# Create Output Paths\n",
    "if not os.path.exists(output_dir):\n",
    "    os.makedirs(output_dir)"
   ]
  },
  {
   "cell_type": "markdown",
   "id": "periodic-footwear",
   "metadata": {},
   "source": [
    "# Load Model"
   ]
  },
  {
   "cell_type": "code",
   "execution_count": 266,
   "id": "played-serve",
   "metadata": {},
   "outputs": [
    {
     "data": {
      "text/plain": [
       "VQVAE(\n",
       "  (encoder): Sequential(\n",
       "    (0): Conv2d(3, 128, kernel_size=(1, 1), stride=(1, 1))\n",
       "    (1): BatchNorm2d(128, eps=1e-05, momentum=0.1, affine=True, track_running_stats=True)\n",
       "    (2): ReLU()\n",
       "    (3): Conv2d(128, 256, kernel_size=(2, 2), stride=(2, 2), bias=False)\n",
       "    (4): BatchNorm2d(256, eps=1e-05, momentum=0.1, affine=True, track_running_stats=True)\n",
       "    (5): ReLU()\n",
       "    (6): Conv2d(256, 512, kernel_size=(2, 2), stride=(2, 2), bias=False)\n",
       "    (7): BatchNorm2d(512, eps=1e-05, momentum=0.1, affine=True, track_running_stats=True)\n",
       "    (8): ReLU()\n",
       "    (9): Conv2d(512, 64, kernel_size=(1, 1), stride=(1, 1))\n",
       "  )\n",
       "  (vq_vae): VectorQuantizerEMA(\n",
       "    (_embedding): Embedding(512, 64)\n",
       "  )\n",
       "  (decoder): Sequential(\n",
       "    (0): Conv2d(64, 512, kernel_size=(1, 1), stride=(1, 1))\n",
       "    (1): ConvTranspose2d(512, 256, kernel_size=(2, 2), stride=(2, 2), bias=False)\n",
       "    (2): BatchNorm2d(256, eps=1e-05, momentum=0.1, affine=True, track_running_stats=True)\n",
       "    (3): ReLU()\n",
       "    (4): ConvTranspose2d(256, 128, kernel_size=(2, 2), stride=(2, 2), bias=False)\n",
       "    (5): BatchNorm2d(128, eps=1e-05, momentum=0.1, affine=True, track_running_stats=True)\n",
       "    (6): ReLU()\n",
       "    (7): ConvTranspose2d(128, 3, kernel_size=(1, 1), stride=(1, 1))\n",
       "    (8): BatchNorm2d(3, eps=1e-05, momentum=0.1, affine=True, track_running_stats=True)\n",
       "    (9): Sigmoid()\n",
       "  )\n",
       ")"
      ]
     },
     "execution_count": 266,
     "metadata": {},
     "output_type": "execute_result"
    }
   ],
   "source": [
    "model = models.VQVAE(\n",
    "    num_layers=num_layers,\n",
    "    input_image_dimensions=image_size,\n",
    "    small_conv=small_conv,\n",
    "    embedding_dim=embedding_dim,\n",
    "    num_embeddings=num_embeddings,\n",
    "    commitment_cost=commitment_cost,\n",
    "    use_max_filters=use_max_filters,\n",
    "    max_filters=max_filters,\n",
    ")\n",
    "model.load_state_dict(torch.load(model_path, map_location=device))\n",
    "model.eval()\n",
    "model.to(device)"
   ]
  },
  {
   "cell_type": "markdown",
   "id": "distinguished-syndrome",
   "metadata": {},
   "source": [
    "# Load Data"
   ]
  },
  {
   "cell_type": "code",
   "execution_count": 267,
   "id": "certain-generator",
   "metadata": {},
   "outputs": [],
   "source": [
    "class CustomDataset(torch.utils.data.Dataset):\n",
    "    def __init__(self, dataset_directory, transform):\n",
    "        self.dataset_path = dataset_directory\n",
    "        self.all_images = os.listdir(dataset_directory)\n",
    "        self.transform = transform\n",
    "\n",
    "    def __getitem__(self, index):\n",
    "        filename = self.all_images[index]\n",
    "        image_path = os.path.join(self.dataset_path, filename)\n",
    "        image = Image.open(image_path).convert(\"RGBA\")\n",
    "        background = Image.new(\"RGBA\", image.size, (255, 255, 255))\n",
    "        image = Image.alpha_composite(background, image).convert(\"RGB\")\n",
    "        fusion = self.transform(image)\n",
    "        return filename, fusion\n",
    "\n",
    "    def __len__(self):\n",
    "        return len(self.all_images)"
   ]
  },
  {
   "cell_type": "code",
   "execution_count": 268,
   "id": "handed-freeze",
   "metadata": {},
   "outputs": [],
   "source": [
    "transform = data.image2tensor_resize(image_size)\n",
    "dataset = CustomDataset(data_folder, transform)\n",
    "dataloader = torch.utils.data.DataLoader(\n",
    "    dataset,\n",
    "    batch_size=batch_size,\n",
    "    shuffle=True,\n",
    "    num_workers=num_dataloader_workers,\n",
    "    pin_memory=gpu,\n",
    ")"
   ]
  },
  {
   "cell_type": "code",
   "execution_count": 269,
   "id": "flexible-questionnaire",
   "metadata": {},
   "outputs": [],
   "source": [
    "def image_from_array(image, model_output=False):\n",
    "    if model_output:\n",
    "        image = image.detach().squeeze(0)\n",
    "    plt.imshow(image.permute(1, 2, 0).numpy())"
   ]
  },
  {
   "cell_type": "code",
   "execution_count": 270,
   "id": "constitutional-investigation",
   "metadata": {},
   "outputs": [],
   "source": [
    "target_shape = (1, encoding_dim, encoding_dim, embedding_dim,)"
   ]
  },
  {
   "cell_type": "markdown",
   "id": "tight-regression",
   "metadata": {},
   "source": [
    "# Get Encoding Mapping"
   ]
  },
  {
   "cell_type": "code",
   "execution_count": 271,
   "id": "dental-munich",
   "metadata": {},
   "outputs": [],
   "source": [
    "num_encodings = encoding_dim ** 2\n",
    "mapping_size = image_size // encoding_dim\n",
    "encodings_mapping = {}\n",
    "for i in range(num_embeddings):\n",
    "    image = torch.tensor([i] * num_encodings).unsqueeze(1)\n",
    "    model_output = model.quantize_and_decode(image, target_shape, device).permute(0, 2, 3, 1)[0].detach()\n",
    "    model_output = model_output[0:mapping_size, 0:mapping_size]\n",
    "    encodings_mapping[i] = model_output"
   ]
  },
  {
   "cell_type": "code",
   "execution_count": 272,
   "id": "cardiac-crowd",
   "metadata": {},
   "outputs": [
    {
     "data": {
      "text/plain": [
       "tensor([[[0.3958, 0.5501, 0.7217],\n",
       "         [0.3938, 0.5406, 0.7250],\n",
       "         [0.3830, 0.5310, 0.7262],\n",
       "         [0.3887, 0.5494, 0.7390]],\n",
       "\n",
       "        [[0.3908, 0.5342, 0.7269],\n",
       "         [0.4040, 0.5600, 0.7414],\n",
       "         [0.3996, 0.5554, 0.7477],\n",
       "         [0.3795, 0.5328, 0.7252]],\n",
       "\n",
       "        [[0.3355, 0.4689, 0.6303],\n",
       "         [0.3535, 0.4800, 0.6509],\n",
       "         [0.3475, 0.4801, 0.6530],\n",
       "         [0.3250, 0.4582, 0.6067]],\n",
       "\n",
       "        [[0.1398, 0.1947, 0.2464],\n",
       "         [0.1301, 0.1703, 0.2148],\n",
       "         [0.1249, 0.1634, 0.2040],\n",
       "         [0.1491, 0.1917, 0.2415]]])"
      ]
     },
     "execution_count": 272,
     "metadata": {},
     "output_type": "execute_result"
    }
   ],
   "source": [
    "encodings_mapping[0]"
   ]
  },
  {
   "cell_type": "markdown",
   "id": "objective-budget",
   "metadata": {},
   "source": [
    "# Sample 1 Image"
   ]
  },
  {
   "cell_type": "code",
   "execution_count": 273,
   "id": "optimum-savage",
   "metadata": {},
   "outputs": [],
   "source": [
    "def encodings_to_image(encodings, mappings, image_size, mapping_size):\n",
    "    image = torch.zeros(image_size, image_size, 3)\n",
    "    j = 0\n",
    "    for i, encoding in enumerate(encodings):\n",
    "        encoding = mappings[encoding.item()]\n",
    "        row_min = (i * mapping_size) % image_size\n",
    "        row_max = row_min + mapping_size\n",
    "        col_min = j * mapping_size\n",
    "        col_max = col_min + mapping_size\n",
    "        image[col_min:col_max, row_min:row_max] = encoding\n",
    "        if row_max == image_size:\n",
    "            j += 1\n",
    "    return image"
   ]
  },
  {
   "cell_type": "code",
   "execution_count": 274,
   "id": "delayed-bundle",
   "metadata": {},
   "outputs": [],
   "source": [
    "for _, x in dataloader:\n",
    "    break\n",
    "x = x[0].unsqueeze(0)"
   ]
  },
  {
   "cell_type": "code",
   "execution_count": 275,
   "id": "portable-tribute",
   "metadata": {},
   "outputs": [
    {
     "name": "stderr",
     "output_type": "stream",
     "text": [
      "Clipping input data to the valid range for imshow with RGB data ([0..1] for floats or [0..255] for integers).\n"
     ]
    },
    {
     "data": {
      "image/png": "[encoded data removed]",
      "text/plain": [
       "<Figure size 432x288 with 1 Axes>"
      ]
     },
     "metadata": {
      "needs_background": "light"
     },
     "output_type": "display_data"
    }
   ],
   "source": [
    "image_from_array(x[0])"
   ]
  },
  {
   "cell_type": "code",
   "execution_count": 276,
   "id": "balanced-colors",
   "metadata": {},
   "outputs": [],
   "source": [
    "encodings = model(x)[3].detach()"
   ]
  },
  {
   "cell_type": "code",
   "execution_count": 277,
   "id": "suspected-retention",
   "metadata": {
    "scrolled": true
   },
   "outputs": [
    {
     "name": "stdout",
     "output_type": "stream",
     "text": [
      "2.35 ms ± 181 µs per loop (mean ± std. dev. of 7 runs, 100 loops each)\n"
     ]
    }
   ],
   "source": [
    "%%timeit\n",
    "image = encodings_to_image(encodings, encodings_mapping, image_size, mapping_size)\n",
    "# plt.imshow(image)"
   ]
  },
  {
   "cell_type": "code",
   "execution_count": 278,
   "id": "electoral-wales",
   "metadata": {},
   "outputs": [
    {
     "name": "stdout",
     "output_type": "stream",
     "text": [
      "13.1 ms ± 277 µs per loop (mean ± std. dev. of 7 runs, 100 loops each)\n"
     ]
    }
   ],
   "source": [
    "%%timeit\n",
    "image = model.quantize_and_decode(encodings, target_shape, device)\n",
    "# image_from_array(image, True)"
   ]
  },
  {
   "cell_type": "markdown",
   "id": "precious-qatar",
   "metadata": {},
   "source": [
    "Observations:\n",
    "The decoder is faster in cases where we have a lot of encodings E.G. 1024 or 4096. But in cases with a smaller number of embeddings (256, 64), the non-decoder approach is faster."
   ]
  }
 ],
 "metadata": {
  "kernelspec": {
   "display_name": "Python 3",
   "language": "python",
   "name": "python3"
  },
  "language_info": {
   "codemirror_mode": {
    "name": "ipython",
    "version": 3
   },
   "file_extension": ".py",
   "mimetype": "text/x-python",
   "name": "python",
   "nbconvert_exporter": "python",
   "pygments_lexer": "ipython3",
   "version": "3.9.5"
  }
 },
 "nbformat": 4,
 "nbformat_minor": 5
}
