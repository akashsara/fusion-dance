{
 "cells": [
  {
   "cell_type": "markdown",
   "id": "funny-halifax",
   "metadata": {},
   "source": [
    "Basically we want to see if the decoder is even something that's necessary. Can we just learn a mapping from encoding->pixels? Does the decoder do anything extra?"
   ]
  },
  {
   "cell_type": "code",
   "execution_count": 11,
   "id": "gross-australian",
   "metadata": {},
   "outputs": [],
   "source": [
    "import os\n",
    "import sys\n",
    "\n",
    "import matplotlib.pyplot as plt\n",
    "import numpy as np\n",
    "import torch\n",
    "import torch.nn as nn\n",
    "import pytorch_msssim\n",
    "from tqdm import tqdm\n",
    "from PIL import Image\n",
    "\n",
    "sys.path.append(\"../\")\n",
    "import utils.data as data\n",
    "import utils.graphics as graphics\n",
    "import utils.loss as loss\n",
    "from models import vqvae"
   ]
  },
  {
   "cell_type": "code",
   "execution_count": 12,
   "id": "ordinary-session",
   "metadata": {},
   "outputs": [],
   "source": [
    "seed = 42\n",
    "np.random.seed(seed)\n",
    "_ = torch.manual_seed(seed)"
   ]
  },
  {
   "cell_type": "code",
   "execution_count": 13,
   "id": "animal-effort",
   "metadata": {},
   "outputs": [],
   "source": [
    "batch_size = 64\n",
    "num_dataloader_workers = 0\n",
    "\n",
    "experiment_name = f\"vq_vae_v5.8\"\n",
    "\n",
    "num_layers = 1\n",
    "num_embeddings = 256\n",
    "embedding_dim = 32\n",
    "commitment_cost = 0.25\n",
    "use_max_filters = True\n",
    "max_filters = 512\n",
    "image_size = 64\n",
    "use_noise_images = True\n",
    "small_conv = True  # To use the 1x1 convolution layer\n",
    "encoding_dim = image_size // (2 ** num_layers)\n",
    "\n",
    "data_folder = \"..\\\\data\\\\Pokemon\\\\original_data\"\n",
    "\n",
    "output_dir = f\"..\\\\outputs\\\\{experiment_name}\"\n",
    "model_path = os.path.join(output_dir, \"model.pt\")"
   ]
  },
  {
   "cell_type": "code",
   "execution_count": 14,
   "id": "mature-canvas",
   "metadata": {},
   "outputs": [
    {
     "name": "stdout",
     "output_type": "stream",
     "text": [
      "False cpu\n"
     ]
    }
   ],
   "source": [
    "# Setup Device\n",
    "gpu = torch.cuda.is_available()\n",
    "device = torch.device(\"cuda\" if gpu else \"cpu\")\n",
    "print(gpu, device)\n",
    "\n",
    "# Create Output Paths\n",
    "if not os.path.exists(output_dir):\n",
    "    os.makedirs(output_dir)"
   ]
  },
  {
   "cell_type": "markdown",
   "id": "periodic-footwear",
   "metadata": {},
   "source": [
    "# Load Model"
   ]
  },
  {
   "cell_type": "code",
   "execution_count": 15,
   "id": "played-serve",
   "metadata": {},
   "outputs": [
    {
     "data": {
      "text/plain": [
       "VQVAE(\n",
       "  (encoder): Sequential(\n",
       "    (0): Conv2d(3, 256, kernel_size=(1, 1), stride=(1, 1))\n",
       "    (1): BatchNorm2d(256, eps=1e-05, momentum=0.1, affine=True, track_running_stats=True)\n",
       "    (2): ReLU()\n",
       "    (3): Conv2d(256, 512, kernel_size=(2, 2), stride=(2, 2), bias=False)\n",
       "    (4): BatchNorm2d(512, eps=1e-05, momentum=0.1, affine=True, track_running_stats=True)\n",
       "    (5): ReLU()\n",
       "    (6): Conv2d(512, 32, kernel_size=(1, 1), stride=(1, 1))\n",
       "  )\n",
       "  (vq_vae): VectorQuantizerEMA(\n",
       "    (_embedding): Embedding(256, 32)\n",
       "  )\n",
       "  (decoder): Sequential(\n",
       "    (0): Conv2d(32, 512, kernel_size=(1, 1), stride=(1, 1))\n",
       "    (1): ConvTranspose2d(512, 256, kernel_size=(2, 2), stride=(2, 2), bias=False)\n",
       "    (2): BatchNorm2d(256, eps=1e-05, momentum=0.1, affine=True, track_running_stats=True)\n",
       "    (3): ReLU()\n",
       "    (4): ConvTranspose2d(256, 3, kernel_size=(1, 1), stride=(1, 1))\n",
       "    (5): BatchNorm2d(3, eps=1e-05, momentum=0.1, affine=True, track_running_stats=True)\n",
       "    (6): Sigmoid()\n",
       "  )\n",
       ")"
      ]
     },
     "execution_count": 15,
     "metadata": {},
     "output_type": "execute_result"
    }
   ],
   "source": [
    "model = vqvae.VQVAE(\n",
    "    num_layers=num_layers,\n",
    "    input_image_dimensions=image_size,\n",
    "    small_conv=small_conv,\n",
    "    embedding_dim=embedding_dim,\n",
    "    num_embeddings=num_embeddings,\n",
    "    commitment_cost=commitment_cost,\n",
    "    use_max_filters=use_max_filters,\n",
    "    max_filters=max_filters,\n",
    ")\n",
    "model.load_state_dict(torch.load(model_path, map_location=device))\n",
    "model.eval()\n",
    "model.to(device)"
   ]
  },
  {
   "cell_type": "markdown",
   "id": "distinguished-syndrome",
   "metadata": {},
   "source": [
    "# Load Data"
   ]
  },
  {
   "cell_type": "code",
   "execution_count": 16,
   "id": "certain-generator",
   "metadata": {},
   "outputs": [],
   "source": [
    "class CustomDataset(torch.utils.data.Dataset):\n",
    "    def __init__(self, dataset_directory, transform):\n",
    "        self.dataset_path = dataset_directory\n",
    "        self.all_images = os.listdir(dataset_directory)\n",
    "        self.transform = transform\n",
    "\n",
    "    def __getitem__(self, index):\n",
    "        filename = self.all_images[index]\n",
    "        image_path = os.path.join(self.dataset_path, filename)\n",
    "        image = Image.open(image_path).convert(\"RGBA\")\n",
    "        background = Image.new(\"RGBA\", image.size, (255, 255, 255))\n",
    "        image = Image.alpha_composite(background, image).convert(\"RGB\")\n",
    "        fusion = self.transform(image)\n",
    "        return filename, fusion\n",
    "\n",
    "    def __len__(self):\n",
    "        return len(self.all_images)"
   ]
  },
  {
   "cell_type": "code",
   "execution_count": 17,
   "id": "handed-freeze",
   "metadata": {},
   "outputs": [],
   "source": [
    "transform = data.image2tensor_resize(image_size)\n",
    "dataset = CustomDataset(data_folder, transform)\n",
    "dataloader = torch.utils.data.DataLoader(\n",
    "    dataset,\n",
    "    batch_size=batch_size,\n",
    "    shuffle=True,\n",
    "    num_workers=num_dataloader_workers,\n",
    "    pin_memory=gpu,\n",
    ")"
   ]
  },
  {
   "cell_type": "code",
   "execution_count": 18,
   "id": "flexible-questionnaire",
   "metadata": {},
   "outputs": [],
   "source": [
    "def image_from_array(image, model_output=False):\n",
    "    if model_output:\n",
    "        image = image.detach().squeeze(0)\n",
    "    plt.imshow(image.permute(1, 2, 0).numpy())"
   ]
  },
  {
   "cell_type": "code",
   "execution_count": 19,
   "id": "constitutional-investigation",
   "metadata": {},
   "outputs": [],
   "source": [
    "target_shape = (1, encoding_dim, encoding_dim, embedding_dim,)"
   ]
  },
  {
   "cell_type": "markdown",
   "id": "tight-regression",
   "metadata": {},
   "source": [
    "# Get Encoding Mapping"
   ]
  },
  {
   "cell_type": "code",
   "execution_count": 20,
   "id": "dental-munich",
   "metadata": {},
   "outputs": [],
   "source": [
    "num_encodings = encoding_dim ** 2\n",
    "mapping_size = image_size // encoding_dim\n",
    "encodings_mapping = {}\n",
    "for i in range(num_embeddings):\n",
    "    image = torch.tensor([i] * num_encodings).unsqueeze(1)\n",
    "    model_output = model.quantize_and_decode(image, target_shape, device).permute(0, 2, 3, 1)[0].detach()\n",
    "    model_output = model_output[0:mapping_size, 0:mapping_size]\n",
    "    encodings_mapping[i] = model_output"
   ]
  },
  {
   "cell_type": "code",
   "execution_count": 21,
   "id": "cardiac-crowd",
   "metadata": {},
   "outputs": [
    {
     "data": {
      "text/plain": [
       "tensor([[[0.2974, 0.7335, 0.7831],\n",
       "         [0.3140, 0.4326, 0.7067]],\n",
       "\n",
       "        [[0.6430, 0.6815, 0.7728],\n",
       "         [0.6364, 0.7092, 0.3206]]])"
      ]
     },
     "execution_count": 21,
     "metadata": {},
     "output_type": "execute_result"
    }
   ],
   "source": [
    "encodings_mapping[0]"
   ]
  },
  {
   "cell_type": "markdown",
   "id": "objective-budget",
   "metadata": {},
   "source": [
    "# Sample 1 Image"
   ]
  },
  {
   "cell_type": "code",
   "execution_count": 22,
   "id": "optimum-savage",
   "metadata": {},
   "outputs": [],
   "source": [
    "def encodings_to_image(encodings, mappings, image_size, mapping_size):\n",
    "    image = torch.zeros(image_size, image_size, 3)\n",
    "    j = 0\n",
    "    for i, encoding in enumerate(encodings):\n",
    "        encoding = mappings[encoding.item()]\n",
    "        row_min = (i * mapping_size) % image_size\n",
    "        row_max = row_min + mapping_size\n",
    "        col_min = j * mapping_size\n",
    "        col_max = col_min + mapping_size\n",
    "        image[col_min:col_max, row_min:row_max] = encoding\n",
    "        if row_max == image_size:\n",
    "            j += 1\n",
    "    return image"
   ]
  },
  {
   "cell_type": "code",
   "execution_count": 23,
   "id": "delayed-bundle",
   "metadata": {},
   "outputs": [],
   "source": [
    "for _, x in dataloader:\n",
    "    break\n",
    "x = x[0].unsqueeze(0)"
   ]
  },
  {
   "cell_type": "code",
   "execution_count": 24,
   "id": "portable-tribute",
   "metadata": {},
   "outputs": [
    {
     "name": "stderr",
     "output_type": "stream",
     "text": [
      "Clipping input data to the valid range for imshow with RGB data ([0..1] for floats or [0..255] for integers).\n"
     ]
    },
    {
     "data": {
      "image/png": "[encoded data removed]",
      "text/plain": [
       "<Figure size 432x288 with 1 Axes>"
      ]
     },
     "metadata": {
      "needs_background": "light"
     },
     "output_type": "display_data"
    }
   ],
   "source": [
    "image_from_array(x[0])"
   ]
  },
  {
   "cell_type": "code",
   "execution_count": 25,
   "id": "balanced-colors",
   "metadata": {},
   "outputs": [],
   "source": [
    "encodings = model(x)[3].detach()"
   ]
  },
  {
   "cell_type": "code",
   "execution_count": 27,
   "id": "suspected-retention",
   "metadata": {
    "scrolled": true
   },
   "outputs": [
    {
     "name": "stdout",
     "output_type": "stream",
     "text": [
      "8.8 ms ± 178 µs per loop (mean ± std. dev. of 7 runs, 100 loops each)\n"
     ]
    }
   ],
   "source": [
    "%%timeit\n",
    "image = encodings_to_image(encodings, encodings_mapping, image_size, mapping_size)\n",
    "# plt.imshow(image)"
   ]
  },
  {
   "cell_type": "code",
   "execution_count": 28,
   "id": "electoral-wales",
   "metadata": {},
   "outputs": [
    {
     "name": "stdout",
     "output_type": "stream",
     "text": [
      "19.5 ms ± 461 µs per loop (mean ± std. dev. of 7 runs, 100 loops each)\n"
     ]
    }
   ],
   "source": [
    "%%timeit\n",
    "image = model.quantize_and_decode(encodings, target_shape, device)\n",
    "# image_from_array(image, True)"
   ]
  },
  {
   "cell_type": "markdown",
   "id": "precious-qatar",
   "metadata": {},
   "source": [
    "Observations:\n",
    "The decoder is faster in cases where we have a lot of encodings E.G. 1024 or 4096. But in cases with a smaller number of embeddings (256, 64), the non-decoder approach is faster."
   ]
  },
  {
   "cell_type": "code",
   "execution_count": 64,
   "id": "executed-diesel",
   "metadata": {},
   "outputs": [
    {
     "ename": "RuntimeError",
     "evalue": "shape '[1, 32, 32, 32]' is invalid for input of size 512",
     "output_type": "error",
     "traceback": [
      "\u001b[1;31m---------------------------------------------------------------------------\u001b[0m",
      "\u001b[1;31mRuntimeError\u001b[0m                              Traceback (most recent call last)",
      "\u001b[1;32m<ipython-input-64-268e19eb6271>\u001b[0m in \u001b[0;36m<module>\u001b[1;34m\u001b[0m\n\u001b[0;32m      5\u001b[0m         \u001b[0mencodings\u001b[0m \u001b[1;33m=\u001b[0m \u001b[0mmodel\u001b[0m\u001b[1;33m(\u001b[0m\u001b[0mx\u001b[0m\u001b[1;33m)\u001b[0m\u001b[1;33m[\u001b[0m\u001b[1;36m3\u001b[0m\u001b[1;33m]\u001b[0m\u001b[1;33m.\u001b[0m\u001b[0mdetach\u001b[0m\u001b[1;33m(\u001b[0m\u001b[1;33m)\u001b[0m\u001b[1;33m.\u001b[0m\u001b[0mreshape\u001b[0m\u001b[1;33m(\u001b[0m\u001b[0mbatch_size\u001b[0m\u001b[1;33m,\u001b[0m \u001b[1;33m-\u001b[0m\u001b[1;36m1\u001b[0m\u001b[1;33m,\u001b[0m \u001b[1;36m1\u001b[0m\u001b[1;33m)\u001b[0m\u001b[1;33m\u001b[0m\u001b[1;33m\u001b[0m\u001b[0m\n\u001b[0;32m      6\u001b[0m         \u001b[1;32mfor\u001b[0m \u001b[0mencoding\u001b[0m \u001b[1;32min\u001b[0m \u001b[0mencodings\u001b[0m\u001b[1;33m:\u001b[0m\u001b[1;33m\u001b[0m\u001b[1;33m\u001b[0m\u001b[0m\n\u001b[1;32m----> 7\u001b[1;33m             \u001b[0mall_model\u001b[0m\u001b[1;33m.\u001b[0m\u001b[0mappend\u001b[0m\u001b[1;33m(\u001b[0m\u001b[0mmodel\u001b[0m\u001b[1;33m.\u001b[0m\u001b[0mquantize_and_decode\u001b[0m\u001b[1;33m(\u001b[0m\u001b[0mencoding\u001b[0m\u001b[1;33m,\u001b[0m \u001b[0mtarget_shape\u001b[0m\u001b[1;33m,\u001b[0m \u001b[0mdevice\u001b[0m\u001b[1;33m)\u001b[0m\u001b[1;33m.\u001b[0m\u001b[0mdetach\u001b[0m\u001b[1;33m(\u001b[0m\u001b[1;33m)\u001b[0m\u001b[1;33m.\u001b[0m\u001b[0mcpu\u001b[0m\u001b[1;33m(\u001b[0m\u001b[1;33m)\u001b[0m\u001b[1;33m)\u001b[0m\u001b[1;33m\u001b[0m\u001b[1;33m\u001b[0m\u001b[0m\n\u001b[0m\u001b[0;32m      8\u001b[0m             \u001b[0mall_manual\u001b[0m\u001b[1;33m.\u001b[0m\u001b[0mappend\u001b[0m\u001b[1;33m(\u001b[0m\u001b[0mencodings_to_image\u001b[0m\u001b[1;33m(\u001b[0m\u001b[0mencoding\u001b[0m\u001b[1;33m,\u001b[0m \u001b[0mencodings_mapping\u001b[0m\u001b[1;33m,\u001b[0m \u001b[0mimage_size\u001b[0m\u001b[1;33m,\u001b[0m \u001b[0mmapping_size\u001b[0m\u001b[1;33m)\u001b[0m\u001b[1;33m)\u001b[0m\u001b[1;33m\u001b[0m\u001b[1;33m\u001b[0m\u001b[0m\n",
      "\u001b[1;32mE:\\Dev\\fusion-dance\\notebooks\\..\\models\\vqvae.py\u001b[0m in \u001b[0;36mquantize_and_decode\u001b[1;34m(self, x, target_shape, device)\u001b[0m\n\u001b[0;32m    254\u001b[0m \u001b[1;33m\u001b[0m\u001b[0m\n\u001b[0;32m    255\u001b[0m     \u001b[1;32mdef\u001b[0m \u001b[0mquantize_and_decode\u001b[0m\u001b[1;33m(\u001b[0m\u001b[0mself\u001b[0m\u001b[1;33m,\u001b[0m \u001b[0mx\u001b[0m\u001b[1;33m,\u001b[0m \u001b[0mtarget_shape\u001b[0m\u001b[1;33m,\u001b[0m \u001b[0mdevice\u001b[0m\u001b[1;33m)\u001b[0m\u001b[1;33m:\u001b[0m\u001b[1;33m\u001b[0m\u001b[1;33m\u001b[0m\u001b[0m\n\u001b[1;32m--> 256\u001b[1;33m         \u001b[0mquantized\u001b[0m \u001b[1;33m=\u001b[0m \u001b[0mself\u001b[0m\u001b[1;33m.\u001b[0m\u001b[0mvq_vae\u001b[0m\u001b[1;33m.\u001b[0m\u001b[0mquantize_encoding_indices\u001b[0m\u001b[1;33m(\u001b[0m\u001b[0mx\u001b[0m\u001b[1;33m,\u001b[0m \u001b[0mtarget_shape\u001b[0m\u001b[1;33m,\u001b[0m \u001b[0mdevice\u001b[0m\u001b[1;33m)\u001b[0m\u001b[1;33m\u001b[0m\u001b[1;33m\u001b[0m\u001b[0m\n\u001b[0m\u001b[0;32m    257\u001b[0m         \u001b[1;32mreturn\u001b[0m \u001b[0mself\u001b[0m\u001b[1;33m.\u001b[0m\u001b[0mdecoder\u001b[0m\u001b[1;33m(\u001b[0m\u001b[0mquantized\u001b[0m\u001b[1;33m)\u001b[0m\u001b[1;33m\u001b[0m\u001b[1;33m\u001b[0m\u001b[0m\n\u001b[0;32m    258\u001b[0m \u001b[1;33m\u001b[0m\u001b[0m\n",
      "\u001b[1;32mE:\\Dev\\fusion-dance\\notebooks\\..\\models\\vqvae.py\u001b[0m in \u001b[0;36mquantize_encoding_indices\u001b[1;34m(self, encoding_indices, target_shape, device)\u001b[0m\n\u001b[0;32m    107\u001b[0m         )\n\u001b[0;32m    108\u001b[0m         \u001b[0mencodings\u001b[0m\u001b[1;33m.\u001b[0m\u001b[0mscatter_\u001b[0m\u001b[1;33m(\u001b[0m\u001b[1;36m1\u001b[0m\u001b[1;33m,\u001b[0m \u001b[0mencoding_indices\u001b[0m\u001b[1;33m,\u001b[0m \u001b[1;36m1\u001b[0m\u001b[1;33m)\u001b[0m\u001b[1;33m\u001b[0m\u001b[1;33m\u001b[0m\u001b[0m\n\u001b[1;32m--> 109\u001b[1;33m         \u001b[0mquantized\u001b[0m \u001b[1;33m=\u001b[0m \u001b[0mtorch\u001b[0m\u001b[1;33m.\u001b[0m\u001b[0mmatmul\u001b[0m\u001b[1;33m(\u001b[0m\u001b[0mencodings\u001b[0m\u001b[1;33m,\u001b[0m \u001b[0mself\u001b[0m\u001b[1;33m.\u001b[0m\u001b[0m_embedding\u001b[0m\u001b[1;33m.\u001b[0m\u001b[0mweight\u001b[0m\u001b[1;33m)\u001b[0m\u001b[1;33m.\u001b[0m\u001b[0mview\u001b[0m\u001b[1;33m(\u001b[0m\u001b[0mtarget_shape\u001b[0m\u001b[1;33m)\u001b[0m\u001b[1;33m\u001b[0m\u001b[1;33m\u001b[0m\u001b[0m\n\u001b[0m\u001b[0;32m    110\u001b[0m         \u001b[1;32mreturn\u001b[0m \u001b[0mquantized\u001b[0m\u001b[1;33m.\u001b[0m\u001b[0mpermute\u001b[0m\u001b[1;33m(\u001b[0m\u001b[1;36m0\u001b[0m\u001b[1;33m,\u001b[0m \u001b[1;36m3\u001b[0m\u001b[1;33m,\u001b[0m \u001b[1;36m1\u001b[0m\u001b[1;33m,\u001b[0m \u001b[1;36m2\u001b[0m\u001b[1;33m)\u001b[0m\u001b[1;33m.\u001b[0m\u001b[0mcontiguous\u001b[0m\u001b[1;33m(\u001b[0m\u001b[1;33m)\u001b[0m\u001b[1;33m\u001b[0m\u001b[1;33m\u001b[0m\u001b[0m\n\u001b[0;32m    111\u001b[0m \u001b[1;33m\u001b[0m\u001b[0m\n",
      "\u001b[1;31mRuntimeError\u001b[0m: shape '[1, 32, 32, 32]' is invalid for input of size 512"
     ]
    }
   ],
   "source": [
    "all_manual = []\n",
    "all_model = []\n",
    "with torch.no_grad():\n",
    "    for _, x in dataloader:\n",
    "        encodings = model(x)[3].detach().reshape(batch_size, -1, 1)\n",
    "        for encoding in encodings:\n",
    "            all_model.append(model.quantize_and_decode(encoding, target_shape, device).detach().cpu())\n",
    "            all_manual.append(encodings_to_image(encoding, encodings_mapping, image_size, mapping_size))"
   ]
  },
  {
   "cell_type": "code",
   "execution_count": 84,
   "id": "necessary-integration",
   "metadata": {},
   "outputs": [],
   "source": [
    "all_manual = torch.stack(all_manual)\n",
    "all_model = torch.stack(all_model).squeeze(1).permute(0, 2, 3, 1)"
   ]
  },
  {
   "cell_type": "code",
   "execution_count": 87,
   "id": "relevant-comfort",
   "metadata": {},
   "outputs": [
    {
     "data": {
      "text/plain": [
       "(torch.Size([7936, 64, 64, 3]), torch.Size([7936, 1, 3, 64, 64]))"
      ]
     },
     "execution_count": 87,
     "metadata": {},
     "output_type": "execute_result"
    }
   ],
   "source": [
    "all_manual.shape, all_model.shape"
   ]
  },
  {
   "cell_type": "code",
   "execution_count": 108,
   "id": "daily-prerequisite",
   "metadata": {},
   "outputs": [
    {
     "name": "stdout",
     "output_type": "stream",
     "text": [
      "tensor(0.)\n"
     ]
    }
   ],
   "source": [
    "with torch.no_grad():\n",
    "    print(torch.nn.functional.mse_loss(all_model, all_manual))"
   ]
  }
 ],
 "metadata": {
  "kernelspec": {
   "display_name": "Python 3",
   "language": "python",
   "name": "python3"
  },
  "language_info": {
   "codemirror_mode": {
    "name": "ipython",
    "version": 3
   },
   "file_extension": ".py",
   "mimetype": "text/x-python",
   "name": "python",
   "nbconvert_exporter": "python",
   "pygments_lexer": "ipython3",
   "version": "3.9.5"
  }
 },
 "nbformat": 4,
 "nbformat_minor": 5
}
