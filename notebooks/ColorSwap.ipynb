{
 "cells": [
  {
   "cell_type": "code",
   "execution_count": 1,
   "id": "aboriginal-isolation",
   "metadata": {},
   "outputs": [],
   "source": [
    "import os\n",
    "import sys\n",
    "\n",
    "import matplotlib.pyplot as plt\n",
    "import numpy as np\n",
    "import torch\n",
    "import torch.nn as nn\n",
    "import pytorch_msssim\n",
    "from tqdm import tqdm\n",
    "from PIL import Image\n",
    "\n",
    "sys.path.append(\"../\")\n",
    "import utils.data as data\n",
    "import utils.graphics as graphics\n",
    "import utils.loss as loss\n",
    "from models import vqvae"
   ]
  },
  {
   "cell_type": "code",
   "execution_count": 2,
   "id": "german-facial",
   "metadata": {},
   "outputs": [],
   "source": [
    "seed = 42\n",
    "np.random.seed(seed)\n",
    "_ = torch.manual_seed(seed)"
   ]
  },
  {
   "cell_type": "code",
   "execution_count": 3,
   "id": "alien-certification",
   "metadata": {},
   "outputs": [],
   "source": [
    "batch_size = 64\n",
    "num_dataloader_workers = 0\n",
    "\n",
    "experiment_name = f\"vq_vae_v5.10\"\n",
    "\n",
    "num_layers = 0\n",
    "num_embeddings = 256\n",
    "embedding_dim = 32\n",
    "commitment_cost = 0.25\n",
    "use_max_filters = True\n",
    "max_filters = 512\n",
    "image_size = 64\n",
    "use_noise_images = True\n",
    "small_conv = True  # To use the 1x1 convolution layer\n",
    "encoding_dim = image_size // (2 ** num_layers)\n",
    "\n",
    "data_folder = \"..\\\\data\\\\Pokemon\\\\original_data\"\n",
    "\n",
    "output_dir = f\"..\\\\outputs\\\\{experiment_name}\"\n",
    "model_path = os.path.join(output_dir, \"model.pt\")"
   ]
  },
  {
   "cell_type": "code",
   "execution_count": 4,
   "id": "brief-alcohol",
   "metadata": {},
   "outputs": [
    {
     "name": "stdout",
     "output_type": "stream",
     "text": [
      "False cpu\n"
     ]
    }
   ],
   "source": [
    "# Setup Device\n",
    "gpu = torch.cuda.is_available()\n",
    "device = torch.device(\"cuda\" if gpu else \"cpu\")\n",
    "print(gpu, device)"
   ]
  },
  {
   "cell_type": "markdown",
   "id": "beneficial-president",
   "metadata": {},
   "source": [
    "# Load Model"
   ]
  },
  {
   "cell_type": "code",
   "execution_count": 5,
   "id": "prescribed-pharmacology",
   "metadata": {},
   "outputs": [
    {
     "data": {
      "text/plain": [
       "VQVAE(\n",
       "  (encoder): Sequential(\n",
       "    (0): Conv2d(3, 512, kernel_size=(1, 1), stride=(1, 1))\n",
       "    (1): BatchNorm2d(512, eps=1e-05, momentum=0.1, affine=True, track_running_stats=True)\n",
       "    (2): ReLU()\n",
       "    (3): Conv2d(512, 32, kernel_size=(1, 1), stride=(1, 1))\n",
       "  )\n",
       "  (vq_vae): VectorQuantizerEMA(\n",
       "    (_embedding): Embedding(256, 32)\n",
       "  )\n",
       "  (decoder): Sequential(\n",
       "    (0): Conv2d(32, 512, kernel_size=(1, 1), stride=(1, 1))\n",
       "    (1): ConvTranspose2d(512, 3, kernel_size=(1, 1), stride=(1, 1))\n",
       "    (2): BatchNorm2d(3, eps=1e-05, momentum=0.1, affine=True, track_running_stats=True)\n",
       "    (3): Sigmoid()\n",
       "  )\n",
       ")"
      ]
     },
     "execution_count": 5,
     "metadata": {},
     "output_type": "execute_result"
    }
   ],
   "source": [
    "model = vqvae.VQVAE(\n",
    "    num_layers=num_layers,\n",
    "    input_image_dimensions=image_size,\n",
    "    small_conv=small_conv,\n",
    "    embedding_dim=embedding_dim,\n",
    "    num_embeddings=num_embeddings,\n",
    "    commitment_cost=commitment_cost,\n",
    "    use_max_filters=use_max_filters,\n",
    "    max_filters=max_filters,\n",
    ")\n",
    "model.load_state_dict(torch.load(model_path, map_location=device))\n",
    "model.eval()\n",
    "model.to(device)"
   ]
  },
  {
   "cell_type": "markdown",
   "id": "brief-country",
   "metadata": {},
   "source": [
    "# Load Data"
   ]
  },
  {
   "cell_type": "code",
   "execution_count": 10,
   "id": "caring-roommate",
   "metadata": {},
   "outputs": [],
   "source": [
    "def load_data(data_folder, image_size, transform):\n",
    "    pokemon = {}\n",
    "    background = Image.new(\"RGBA\", (image_size, image_size), (255, 255, 255))\n",
    "    for file in os.listdir(data_folder):\n",
    "        id_ = file.split('.')[0].split('_')[0].split('-')[0]\n",
    "        form = '_'.join(file.split('.')[0].split('_')[1:])\n",
    "        image = Image.open(os.path.join(data_folder, file))\n",
    "        image = image.resize((image_size, image_size), resample=Image.BICUBIC).convert(\"RGBA\")\n",
    "        image = Image.alpha_composite(background, image).convert(\"RGB\")\n",
    "        if id_ not in pokemon:\n",
    "            pokemon[id_] = {}\n",
    "        pokemon[id_][form] = transform(image)\n",
    "    return pokemon"
   ]
  },
  {
   "cell_type": "code",
   "execution_count": 11,
   "id": "colored-missouri",
   "metadata": {},
   "outputs": [],
   "source": [
    "def image_from_array(image, model_output=False):\n",
    "    if model_output:\n",
    "        image = image.detach().squeeze(0)\n",
    "    plt.imshow(image.permute(1, 2, 0).numpy())"
   ]
  },
  {
   "cell_type": "code",
   "execution_count": 12,
   "id": "sustained-gothic",
   "metadata": {},
   "outputs": [],
   "source": [
    "transform = data.image2tensor_resize(image_size)\n",
    "dataset = load_data(data_folder, image_size, transform)"
   ]
  },
  {
   "cell_type": "markdown",
   "id": "toxic-software",
   "metadata": {},
   "source": [
    "# Color Rotation"
   ]
  },
  {
   "cell_type": "code",
   "execution_count": 13,
   "id": "greek-rainbow",
   "metadata": {},
   "outputs": [],
   "source": [
    "def modify_encodings(encodings, background, maximum, offset):\n",
    "    encodings[encodings != background] = encodings[encodings != background] + offset\n",
    "    encodings[encodings >= maximum] = encodings[encodings >= maximum] - maximum\n",
    "    return encodings"
   ]
  },
  {
   "cell_type": "code",
   "execution_count": 46,
   "id": "sixth-pathology",
   "metadata": {},
   "outputs": [],
   "source": [
    "background_encoding = 112\n",
    "target_shape = (1, encoding_dim, encoding_dim, embedding_dim)"
   ]
  },
  {
   "cell_type": "code",
   "execution_count": 85,
   "id": "necessary-precipitation",
   "metadata": {},
   "outputs": [],
   "source": [
    "x = dataset['003']['base_bw']\n",
    "constant = dataset['003']['base_shiny_bw']"
   ]
  },
  {
   "cell_type": "code",
   "execution_count": 86,
   "id": "variable-clinic",
   "metadata": {},
   "outputs": [],
   "source": [
    "encodings = model(x.unsqueeze(0))[3]\n",
    "constant_encodings = model(constant.unsqueeze(0))[3]"
   ]
  },
  {
   "cell_type": "code",
   "execution_count": 87,
   "id": "aggressive-encoding",
   "metadata": {},
   "outputs": [],
   "source": [
    "encodings = model(x.unsqueeze(0))[3]\n",
    "x_hat = model.quantize_and_decode(encodings, target_shape, device)"
   ]
  },
  {
   "cell_type": "code",
   "execution_count": 88,
   "id": "accessory-nevada",
   "metadata": {},
   "outputs": [
    {
     "data": {
      "image/png": "[encoded data removed]",
      "text/plain": [
       "<Figure size 576x576 with 2 Axes>"
      ]
     },
     "metadata": {
      "needs_background": "light"
     },
     "output_type": "display_data"
    }
   ],
   "source": [
    "fig=plt.figure(figsize=(8, 8))\n",
    "fig.add_subplot(1, 2, 1)\n",
    "image_from_array(x)\n",
    "fig.add_subplot(1, 2, 2)\n",
    "image_from_array(x_hat, model_output=True)"
   ]
  },
  {
   "cell_type": "code",
   "execution_count": 89,
   "id": "opened-association",
   "metadata": {},
   "outputs": [
    {
     "data": {
      "image/png": "[encoded data removed]",
      "text/plain": [
       "<Figure size 432x288 with 1 Axes>"
      ]
     },
     "metadata": {
      "needs_background": "light"
     },
     "output_type": "display_data"
    }
   ],
   "source": [
    "image_from_array(constant)"
   ]
  },
  {
   "cell_type": "code",
   "execution_count": 102,
   "id": "corresponding-million",
   "metadata": {},
   "outputs": [],
   "source": [
    "encodings_hat = modify_encodings(encodings, constant_encodings, num_embeddings, 24)\n",
    "x_hat = model.quantize_and_decode(encodings_hat, target_shape, device)"
   ]
  },
  {
   "cell_type": "code",
   "execution_count": 103,
   "id": "desirable-vocabulary",
   "metadata": {},
   "outputs": [
    {
     "data": {
      "image/png": "[encoded data removed]",
      "text/plain": [
       "<Figure size 576x576 with 2 Axes>"
      ]
     },
     "metadata": {
      "needs_background": "light"
     },
     "output_type": "display_data"
    }
   ],
   "source": [
    "fig=plt.figure(figsize=(8, 8))\n",
    "fig.add_subplot(1, 2, 1)\n",
    "image_from_array(x)\n",
    "fig.add_subplot(1, 2, 2)\n",
    "image_from_array(x_hat, model_output=True)"
   ]
  },
  {
   "cell_type": "code",
   "execution_count": 47,
   "id": "scheduled-chassis",
   "metadata": {
    "collapsed": true
   },
   "outputs": [
    {
     "ename": "KeyboardInterrupt",
     "evalue": "",
     "output_type": "error",
     "traceback": [
      "\u001b[1;31m---------------------------------------------------------------------------\u001b[0m",
      "\u001b[1;31mKeyboardInterrupt\u001b[0m                         Traceback (most recent call last)",
      "\u001b[1;32m<ipython-input-47-611e23ebe9fc>\u001b[0m in \u001b[0;36m<module>\u001b[1;34m\u001b[0m\n\u001b[0;32m      2\u001b[0m \u001b[1;32mfor\u001b[0m \u001b[0mi\u001b[0m \u001b[1;32min\u001b[0m \u001b[0mrange\u001b[0m\u001b[1;33m(\u001b[0m\u001b[1;36m256\u001b[0m\u001b[1;33m)\u001b[0m\u001b[1;33m:\u001b[0m\u001b[1;33m\u001b[0m\u001b[1;33m\u001b[0m\u001b[0m\n\u001b[0;32m      3\u001b[0m     \u001b[0mencodings_hat\u001b[0m \u001b[1;33m=\u001b[0m \u001b[0mmodify_encodings\u001b[0m\u001b[1;33m(\u001b[0m\u001b[0mencodings\u001b[0m\u001b[1;33m,\u001b[0m \u001b[0mconstant_encodings\u001b[0m\u001b[1;33m,\u001b[0m \u001b[0mnum_embeddings\u001b[0m\u001b[1;33m,\u001b[0m \u001b[0mi\u001b[0m\u001b[1;33m)\u001b[0m\u001b[1;33m\u001b[0m\u001b[1;33m\u001b[0m\u001b[0m\n\u001b[1;32m----> 4\u001b[1;33m     \u001b[0mx_hat\u001b[0m \u001b[1;33m=\u001b[0m \u001b[0mmodel\u001b[0m\u001b[1;33m.\u001b[0m\u001b[0mquantize_and_decode\u001b[0m\u001b[1;33m(\u001b[0m\u001b[0mencodings_hat\u001b[0m\u001b[1;33m,\u001b[0m \u001b[0mtarget_shape\u001b[0m\u001b[1;33m,\u001b[0m \u001b[0mdevice\u001b[0m\u001b[1;33m)\u001b[0m\u001b[1;33m\u001b[0m\u001b[1;33m\u001b[0m\u001b[0m\n\u001b[0m\u001b[0;32m      5\u001b[0m     \u001b[0mx_hat\u001b[0m \u001b[1;33m=\u001b[0m \u001b[0mx_hat\u001b[0m\u001b[1;33m.\u001b[0m\u001b[0mdetach\u001b[0m\u001b[1;33m(\u001b[0m\u001b[1;33m)\u001b[0m\u001b[1;33m.\u001b[0m\u001b[0msqueeze\u001b[0m\u001b[1;33m(\u001b[0m\u001b[1;36m0\u001b[0m\u001b[1;33m)\u001b[0m\u001b[1;33m.\u001b[0m\u001b[0mpermute\u001b[0m\u001b[1;33m(\u001b[0m\u001b[1;36m1\u001b[0m\u001b[1;33m,\u001b[0m \u001b[1;36m2\u001b[0m\u001b[1;33m,\u001b[0m \u001b[1;36m0\u001b[0m\u001b[1;33m)\u001b[0m\u001b[1;33m.\u001b[0m\u001b[0mnumpy\u001b[0m\u001b[1;33m(\u001b[0m\u001b[1;33m)\u001b[0m\u001b[1;33m\u001b[0m\u001b[1;33m\u001b[0m\u001b[0m\n\u001b[0;32m      6\u001b[0m     \u001b[0mx_hat\u001b[0m \u001b[1;33m=\u001b[0m \u001b[0mImage\u001b[0m\u001b[1;33m.\u001b[0m\u001b[0mfromarray\u001b[0m\u001b[1;33m(\u001b[0m\u001b[1;33m(\u001b[0m\u001b[0mx_hat\u001b[0m \u001b[1;33m*\u001b[0m \u001b[1;36m255\u001b[0m\u001b[1;33m)\u001b[0m\u001b[1;33m.\u001b[0m\u001b[0mastype\u001b[0m\u001b[1;33m(\u001b[0m\u001b[0mnp\u001b[0m\u001b[1;33m.\u001b[0m\u001b[0muint8\u001b[0m\u001b[1;33m)\u001b[0m\u001b[1;33m)\u001b[0m\u001b[1;33m\u001b[0m\u001b[1;33m\u001b[0m\u001b[0m\n",
      "\u001b[1;32mE:\\Dev\\fusion-dance\\notebooks\\..\\models\\vqvae.py\u001b[0m in \u001b[0;36mquantize_and_decode\u001b[1;34m(self, x, target_shape, device)\u001b[0m\n\u001b[0;32m    255\u001b[0m     \u001b[1;32mdef\u001b[0m \u001b[0mquantize_and_decode\u001b[0m\u001b[1;33m(\u001b[0m\u001b[0mself\u001b[0m\u001b[1;33m,\u001b[0m \u001b[0mx\u001b[0m\u001b[1;33m,\u001b[0m \u001b[0mtarget_shape\u001b[0m\u001b[1;33m,\u001b[0m \u001b[0mdevice\u001b[0m\u001b[1;33m)\u001b[0m\u001b[1;33m:\u001b[0m\u001b[1;33m\u001b[0m\u001b[1;33m\u001b[0m\u001b[0m\n\u001b[0;32m    256\u001b[0m         \u001b[0mquantized\u001b[0m \u001b[1;33m=\u001b[0m \u001b[0mself\u001b[0m\u001b[1;33m.\u001b[0m\u001b[0mvq_vae\u001b[0m\u001b[1;33m.\u001b[0m\u001b[0mquantize_encoding_indices\u001b[0m\u001b[1;33m(\u001b[0m\u001b[0mx\u001b[0m\u001b[1;33m,\u001b[0m \u001b[0mtarget_shape\u001b[0m\u001b[1;33m,\u001b[0m \u001b[0mdevice\u001b[0m\u001b[1;33m)\u001b[0m\u001b[1;33m\u001b[0m\u001b[1;33m\u001b[0m\u001b[0m\n\u001b[1;32m--> 257\u001b[1;33m         \u001b[1;32mreturn\u001b[0m \u001b[0mself\u001b[0m\u001b[1;33m.\u001b[0m\u001b[0mdecoder\u001b[0m\u001b[1;33m(\u001b[0m\u001b[0mquantized\u001b[0m\u001b[1;33m)\u001b[0m\u001b[1;33m\u001b[0m\u001b[1;33m\u001b[0m\u001b[0m\n\u001b[0m\u001b[0;32m    258\u001b[0m \u001b[1;33m\u001b[0m\u001b[0m\n\u001b[0;32m    259\u001b[0m \u001b[1;33m\u001b[0m\u001b[0m\n",
      "\u001b[1;32me:\\dev\\fusion-dance\\env\\lib\\site-packages\\torch\\nn\\modules\\module.py\u001b[0m in \u001b[0;36m_call_impl\u001b[1;34m(self, *input, **kwargs)\u001b[0m\n\u001b[0;32m   1100\u001b[0m         if not (self._backward_hooks or self._forward_hooks or self._forward_pre_hooks or _global_backward_hooks\n\u001b[0;32m   1101\u001b[0m                 or _global_forward_hooks or _global_forward_pre_hooks):\n\u001b[1;32m-> 1102\u001b[1;33m             \u001b[1;32mreturn\u001b[0m \u001b[0mforward_call\u001b[0m\u001b[1;33m(\u001b[0m\u001b[1;33m*\u001b[0m\u001b[0minput\u001b[0m\u001b[1;33m,\u001b[0m \u001b[1;33m**\u001b[0m\u001b[0mkwargs\u001b[0m\u001b[1;33m)\u001b[0m\u001b[1;33m\u001b[0m\u001b[1;33m\u001b[0m\u001b[0m\n\u001b[0m\u001b[0;32m   1103\u001b[0m         \u001b[1;31m# Do not call functions when jit is used\u001b[0m\u001b[1;33m\u001b[0m\u001b[1;33m\u001b[0m\u001b[1;33m\u001b[0m\u001b[0m\n\u001b[0;32m   1104\u001b[0m         \u001b[0mfull_backward_hooks\u001b[0m\u001b[1;33m,\u001b[0m \u001b[0mnon_full_backward_hooks\u001b[0m \u001b[1;33m=\u001b[0m \u001b[1;33m[\u001b[0m\u001b[1;33m]\u001b[0m\u001b[1;33m,\u001b[0m \u001b[1;33m[\u001b[0m\u001b[1;33m]\u001b[0m\u001b[1;33m\u001b[0m\u001b[1;33m\u001b[0m\u001b[0m\n",
      "\u001b[1;32me:\\dev\\fusion-dance\\env\\lib\\site-packages\\torch\\nn\\modules\\container.py\u001b[0m in \u001b[0;36mforward\u001b[1;34m(self, input)\u001b[0m\n\u001b[0;32m    139\u001b[0m     \u001b[1;32mdef\u001b[0m \u001b[0mforward\u001b[0m\u001b[1;33m(\u001b[0m\u001b[0mself\u001b[0m\u001b[1;33m,\u001b[0m \u001b[0minput\u001b[0m\u001b[1;33m)\u001b[0m\u001b[1;33m:\u001b[0m\u001b[1;33m\u001b[0m\u001b[1;33m\u001b[0m\u001b[0m\n\u001b[0;32m    140\u001b[0m         \u001b[1;32mfor\u001b[0m \u001b[0mmodule\u001b[0m \u001b[1;32min\u001b[0m \u001b[0mself\u001b[0m\u001b[1;33m:\u001b[0m\u001b[1;33m\u001b[0m\u001b[1;33m\u001b[0m\u001b[0m\n\u001b[1;32m--> 141\u001b[1;33m             \u001b[0minput\u001b[0m \u001b[1;33m=\u001b[0m \u001b[0mmodule\u001b[0m\u001b[1;33m(\u001b[0m\u001b[0minput\u001b[0m\u001b[1;33m)\u001b[0m\u001b[1;33m\u001b[0m\u001b[1;33m\u001b[0m\u001b[0m\n\u001b[0m\u001b[0;32m    142\u001b[0m         \u001b[1;32mreturn\u001b[0m \u001b[0minput\u001b[0m\u001b[1;33m\u001b[0m\u001b[1;33m\u001b[0m\u001b[0m\n\u001b[0;32m    143\u001b[0m \u001b[1;33m\u001b[0m\u001b[0m\n",
      "\u001b[1;32me:\\dev\\fusion-dance\\env\\lib\\site-packages\\torch\\nn\\modules\\module.py\u001b[0m in \u001b[0;36m_call_impl\u001b[1;34m(self, *input, **kwargs)\u001b[0m\n\u001b[0;32m   1100\u001b[0m         if not (self._backward_hooks or self._forward_hooks or self._forward_pre_hooks or _global_backward_hooks\n\u001b[0;32m   1101\u001b[0m                 or _global_forward_hooks or _global_forward_pre_hooks):\n\u001b[1;32m-> 1102\u001b[1;33m             \u001b[1;32mreturn\u001b[0m \u001b[0mforward_call\u001b[0m\u001b[1;33m(\u001b[0m\u001b[1;33m*\u001b[0m\u001b[0minput\u001b[0m\u001b[1;33m,\u001b[0m \u001b[1;33m**\u001b[0m\u001b[0mkwargs\u001b[0m\u001b[1;33m)\u001b[0m\u001b[1;33m\u001b[0m\u001b[1;33m\u001b[0m\u001b[0m\n\u001b[0m\u001b[0;32m   1103\u001b[0m         \u001b[1;31m# Do not call functions when jit is used\u001b[0m\u001b[1;33m\u001b[0m\u001b[1;33m\u001b[0m\u001b[1;33m\u001b[0m\u001b[0m\n\u001b[0;32m   1104\u001b[0m         \u001b[0mfull_backward_hooks\u001b[0m\u001b[1;33m,\u001b[0m \u001b[0mnon_full_backward_hooks\u001b[0m \u001b[1;33m=\u001b[0m \u001b[1;33m[\u001b[0m\u001b[1;33m]\u001b[0m\u001b[1;33m,\u001b[0m \u001b[1;33m[\u001b[0m\u001b[1;33m]\u001b[0m\u001b[1;33m\u001b[0m\u001b[1;33m\u001b[0m\u001b[0m\n",
      "\u001b[1;32me:\\dev\\fusion-dance\\env\\lib\\site-packages\\torch\\nn\\modules\\conv.py\u001b[0m in \u001b[0;36mforward\u001b[1;34m(self, input)\u001b[0m\n\u001b[0;32m    444\u001b[0m \u001b[1;33m\u001b[0m\u001b[0m\n\u001b[0;32m    445\u001b[0m     \u001b[1;32mdef\u001b[0m \u001b[0mforward\u001b[0m\u001b[1;33m(\u001b[0m\u001b[0mself\u001b[0m\u001b[1;33m,\u001b[0m \u001b[0minput\u001b[0m\u001b[1;33m:\u001b[0m \u001b[0mTensor\u001b[0m\u001b[1;33m)\u001b[0m \u001b[1;33m->\u001b[0m \u001b[0mTensor\u001b[0m\u001b[1;33m:\u001b[0m\u001b[1;33m\u001b[0m\u001b[1;33m\u001b[0m\u001b[0m\n\u001b[1;32m--> 446\u001b[1;33m         \u001b[1;32mreturn\u001b[0m \u001b[0mself\u001b[0m\u001b[1;33m.\u001b[0m\u001b[0m_conv_forward\u001b[0m\u001b[1;33m(\u001b[0m\u001b[0minput\u001b[0m\u001b[1;33m,\u001b[0m \u001b[0mself\u001b[0m\u001b[1;33m.\u001b[0m\u001b[0mweight\u001b[0m\u001b[1;33m,\u001b[0m \u001b[0mself\u001b[0m\u001b[1;33m.\u001b[0m\u001b[0mbias\u001b[0m\u001b[1;33m)\u001b[0m\u001b[1;33m\u001b[0m\u001b[1;33m\u001b[0m\u001b[0m\n\u001b[0m\u001b[0;32m    447\u001b[0m \u001b[1;33m\u001b[0m\u001b[0m\n\u001b[0;32m    448\u001b[0m \u001b[1;32mclass\u001b[0m \u001b[0mConv3d\u001b[0m\u001b[1;33m(\u001b[0m\u001b[0m_ConvNd\u001b[0m\u001b[1;33m)\u001b[0m\u001b[1;33m:\u001b[0m\u001b[1;33m\u001b[0m\u001b[1;33m\u001b[0m\u001b[0m\n",
      "\u001b[1;32me:\\dev\\fusion-dance\\env\\lib\\site-packages\\torch\\nn\\modules\\conv.py\u001b[0m in \u001b[0;36m_conv_forward\u001b[1;34m(self, input, weight, bias)\u001b[0m\n\u001b[0;32m    440\u001b[0m                             \u001b[0mweight\u001b[0m\u001b[1;33m,\u001b[0m \u001b[0mbias\u001b[0m\u001b[1;33m,\u001b[0m \u001b[0mself\u001b[0m\u001b[1;33m.\u001b[0m\u001b[0mstride\u001b[0m\u001b[1;33m,\u001b[0m\u001b[1;33m\u001b[0m\u001b[1;33m\u001b[0m\u001b[0m\n\u001b[0;32m    441\u001b[0m                             _pair(0), self.dilation, self.groups)\n\u001b[1;32m--> 442\u001b[1;33m         return F.conv2d(input, weight, bias, self.stride,\n\u001b[0m\u001b[0;32m    443\u001b[0m                         self.padding, self.dilation, self.groups)\n\u001b[0;32m    444\u001b[0m \u001b[1;33m\u001b[0m\u001b[0m\n",
      "\u001b[1;31mKeyboardInterrupt\u001b[0m: "
     ]
    }
   ],
   "source": [
    "all_generated = []\n",
    "for i in range(256):\n",
    "    encodings_hat = modify_encodings(encodings, constant_encodings, num_embeddings, i)\n",
    "    x_hat = model.quantize_and_decode(encodings_hat, target_shape, device)\n",
    "    x_hat = x_hat.detach().squeeze(0).permute(1, 2, 0).numpy()\n",
    "    x_hat = Image.fromarray((x_hat * 255).astype(np.uint8))\n",
    "    all_generated.append(x_hat)"
   ]
  },
  {
   "cell_type": "code",
   "execution_count": null,
   "id": "round-rover",
   "metadata": {},
   "outputs": [],
   "source": [
    "all_generated[0].save(\n",
    "    fp=\"charizard.gif\", format='GIF', append_images=all_generated[1:], save_all=True, duration=300, loop=0, optimize=False\n",
    ")"
   ]
  },
  {
   "cell_type": "markdown",
   "id": "northern-austin",
   "metadata": {},
   "source": [
    "# Palette Swap"
   ]
  },
  {
   "cell_type": "code",
   "execution_count": 104,
   "id": "scheduled-quest",
   "metadata": {},
   "outputs": [],
   "source": [
    "def get_color_palette(encodings):\n",
    "    colors, counts = encodings.unique(return_counts=True)\n",
    "    return [int(x) for _, x in sorted(zip(counts, colors))][::-1]"
   ]
  },
  {
   "cell_type": "code",
   "execution_count": 105,
   "id": "indian-badge",
   "metadata": {},
   "outputs": [],
   "source": [
    "def swap_palette(encoding, palette, new_palette):\n",
    "    for old, new in zip(palette, new_palette):\n",
    "        encoding[encoding == old] = new\n",
    "    return encoding.unsqueeze(1)"
   ]
  },
  {
   "cell_type": "code",
   "execution_count": 106,
   "id": "challenging-particular",
   "metadata": {},
   "outputs": [],
   "source": [
    "def get_swapped_images(encodings):\n",
    "    x1_encoding, x2_encoding = encodings.view(2, -1)\n",
    "    x1_palette = get_color_palette(x1_encoding)\n",
    "    x2_palette = get_color_palette(x2_encoding)\n",
    "    x1_swapped = swap_palette(x1_encoding, x1_palette, x2_palette)\n",
    "    x2_swapped = swap_palette(x2_encoding, x2_palette, x1_palette)\n",
    "    return torch.cat([x1_swapped, x2_swapped])"
   ]
  },
  {
   "cell_type": "code",
   "execution_count": 107,
   "id": "perceived-honolulu",
   "metadata": {},
   "outputs": [],
   "source": [
    "background_encoding = 112\n",
    "target_shape = (2, encoding_dim, encoding_dim, embedding_dim)"
   ]
  },
  {
   "cell_type": "code",
   "execution_count": 130,
   "id": "portuguese-definition",
   "metadata": {},
   "outputs": [],
   "source": [
    "x1 = dataset['025']['base_bw']\n",
    "x2 = dataset['001']['base_bw']"
   ]
  },
  {
   "cell_type": "code",
   "execution_count": 131,
   "id": "interracial-danger",
   "metadata": {},
   "outputs": [],
   "source": [
    "encodings = model(torch.stack([x1, x2]))[3]\n",
    "x_in = model.quantize_and_decode(encodings, target_shape, device)"
   ]
  },
  {
   "cell_type": "code",
   "execution_count": 132,
   "id": "bridal-disposal",
   "metadata": {},
   "outputs": [],
   "source": [
    "encodings_hat = get_swapped_images(encodings)\n",
    "x_hat = model.quantize_and_decode(encodings_hat, target_shape, device)"
   ]
  },
  {
   "cell_type": "code",
   "execution_count": 133,
   "id": "anticipated-charlotte",
   "metadata": {},
   "outputs": [
    {
     "data": {
      "image/png": "[encoded data removed]",
      "text/plain": [
       "<Figure size 576x576 with 6 Axes>"
      ]
     },
     "metadata": {
      "needs_background": "light"
     },
     "output_type": "display_data"
    }
   ],
   "source": [
    "fig=plt.figure(figsize=(8, 8))\n",
    "fig.add_subplot(3, 2, 1)\n",
    "image_from_array(x1)\n",
    "fig.add_subplot(3, 2, 2)\n",
    "image_from_array(x2)\n",
    "fig.add_subplot(3, 2, 3)\n",
    "image_from_array(x_in[0], True)\n",
    "fig.add_subplot(3, 2, 4)\n",
    "image_from_array(x_in[1], True)\n",
    "fig.add_subplot(3, 2, 5)\n",
    "image_from_array(x_hat[0], True)\n",
    "fig.add_subplot(3, 2, 6)\n",
    "image_from_array(x_hat[1], True)"
   ]
  }
 ],
 "metadata": {
  "kernelspec": {
   "display_name": "Python 3",
   "language": "python",
   "name": "python3"
  },
  "language_info": {
   "codemirror_mode": {
    "name": "ipython",
    "version": 3
   },
   "file_extension": ".py",
   "mimetype": "text/x-python",
   "name": "python",
   "nbconvert_exporter": "python",
   "pygments_lexer": "ipython3",
   "version": "3.9.5"
  }
 },
 "nbformat": 4,
 "nbformat_minor": 5
}
