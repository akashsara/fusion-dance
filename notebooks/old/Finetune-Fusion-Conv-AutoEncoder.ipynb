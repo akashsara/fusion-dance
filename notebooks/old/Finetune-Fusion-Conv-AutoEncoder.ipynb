{
  "nbformat": 4,
  "nbformat_minor": 5,
  "metadata": {
    "colab": {
      "name": "Finetune Fusion-Conv-AutoEncoder.ipynb",
      "provenance": [],
      "collapsed_sections": []
    },
    "kernelspec": {
      "display_name": "Python 3",
      "language": "python",
      "name": "python3"
    },
    "language_info": {
      "codemirror_mode": {
        "name": "ipython",
        "version": 3
      },
      "file_extension": ".py",
      "mimetype": "text/x-python",
      "name": "python",
      "nbconvert_exporter": "python",
      "pygments_lexer": "ipython3",
      "version": "3.8.7"
    },
    "accelerator": "GPU"
  },
  "cells": [
    {
      "cell_type": "code",
      "metadata": {
        "id": "worst-point"
      },
      "source": [
        "import torch\n",
        "import torch.nn as nn\n",
        "import torchvision\n",
        "from torchvision import transforms\n",
        "import numpy as np\n",
        "\n",
        "import matplotlib.pyplot as plt\n",
        "from matplotlib import animation \n",
        "from matplotlib import colors\n",
        "from PIL import Image\n",
        "\n",
        "from tqdm import tqdm\n",
        "\n",
        "import os\n",
        "\n",
        "from IPython.display import HTML"
      ],
      "id": "worst-point",
      "execution_count": null,
      "outputs": []
    },
    {
      "cell_type": "markdown",
      "metadata": {
        "id": "Pxg_7lLpqRze"
      },
      "source": [
        "Google Drive Specific Commands"
      ],
      "id": "Pxg_7lLpqRze"
    },
    {
      "cell_type": "code",
      "metadata": {
        "id": "6vKwhvYnQn1R"
      },
      "source": [
        "!pip install pytorch_msssim"
      ],
      "id": "6vKwhvYnQn1R",
      "execution_count": null,
      "outputs": []
    },
    {
      "cell_type": "code",
      "metadata": {
        "id": "fAKurX8jtA_r"
      },
      "source": [
        "from google.colab import drive\n",
        "drive.mount(\"/content/drive/\")"
      ],
      "id": "fAKurX8jtA_r",
      "execution_count": null,
      "outputs": []
    },
    {
      "cell_type": "code",
      "metadata": {
        "id": "ygDh8WHjQpWc"
      },
      "source": [
        "!unzip \"/content/drive/MyDrive/CMPUT652_PCGML/data/data.zip\" -d \"/content/\""
      ],
      "id": "ygDh8WHjQpWc",
      "execution_count": null,
      "outputs": []
    },
    {
      "cell_type": "code",
      "metadata": {
        "id": "js9ktChOSTaj"
      },
      "source": [
        "!unzip \"/content/drive/MyDrive/CMPUT652_PCGML/data/fusions.zip\" -d \"/content/fusions/\""
      ],
      "id": "js9ktChOSTaj",
      "execution_count": null,
      "outputs": []
    },
    {
      "cell_type": "markdown",
      "metadata": {
        "id": "BLmBbTGrqZv8"
      },
      "source": [
        "Back to Normal"
      ],
      "id": "BLmBbTGrqZv8"
    },
    {
      "cell_type": "code",
      "metadata": {
        "id": "p1-QSkDfqZ_2"
      },
      "source": [
        "from pytorch_msssim import ssim"
      ],
      "id": "p1-QSkDfqZ_2",
      "execution_count": null,
      "outputs": []
    },
    {
      "cell_type": "markdown",
      "metadata": {
        "id": "biblical-intelligence"
      },
      "source": [
        "# Config"
      ],
      "id": "biblical-intelligence"
    },
    {
      "cell_type": "code",
      "metadata": {
        "id": "cleared-decimal"
      },
      "source": [
        "learning_rate = 1e-4\n",
        "epochs = 10\n",
        "batch_size = 64\n",
        "\n",
        "experiment_name = f\"finetune_fusion_autoencoder_v2\"\n",
        "\n",
        "num_layers = 4\n",
        "max_filters = 512\n",
        "image_size = 64\n",
        "latent_dim = 2048\n",
        "use_noise_images = True\n",
        "small_conv = True # To use the 1x1 convolution layer\n",
        "\n",
        "# Fusion Parameters\n",
        "fusion_mode = \"both\" # encoder, decoder, both\n",
        "pretrained_model_path = \"/content/drive/MyDrive/CMPUT652_PCGML/outputs/convolutional_autoencoder_v8.1/model.pt\"\n",
        "freeze_conv = True\n",
        "unfreeze_epoch = 100\n",
        "\n",
        "data_prefix = \"/content\"\n",
        "train_data_folder = data_prefix + \"/train/\"\n",
        "val_data_folder = data_prefix + \"/val/\"\n",
        "test_data_folder = data_prefix + \"/test/\"\n",
        "\n",
        "fusion_data_prefix = \"/content/fusions\"\n",
        "train_fusion_data_folder = fusion_data_prefix + \"/train/\"\n",
        "val_fusion_data_folder = fusion_data_prefix + \"/val/\"\n",
        "test_fusion_data_folder = fusion_data_prefix + \"/test/\"\n",
        "\n",
        "output_prefix = f\"/content/drive/MyDrive/CMPUT652_PCGML/outputs/{experiment_name}\"\n",
        "output_dir = os.path.join(output_prefix, \"generated\", \"normal\")\n",
        "fusion_output_dir = os.path.join(output_prefix, \"generated\", \"fusions\")\n",
        "model_output_path = os.path.join(output_prefix, \"model.pt\")\n",
        "animation_output_path = os.path.join(output_prefix, \"animation.mp4\")\n",
        "fusion_animation_output_path = os.path.join(output_prefix, \"fusion_animation.mp4\")\n",
        "loss_output_path = os.path.join(output_prefix, \"loss.jpg\")\n",
        "fusion_loss_output_path = os.path.join(output_prefix, \"fusion_loss.jpg\")"
      ],
      "id": "cleared-decimal",
      "execution_count": null,
      "outputs": []
    },
    {
      "cell_type": "code",
      "metadata": {
        "id": "common-enough"
      },
      "source": [
        "gpu = torch.cuda.is_available()\n",
        "device = torch.device(\"cuda\" if gpu else \"cpu\")"
      ],
      "id": "common-enough",
      "execution_count": null,
      "outputs": []
    },
    {
      "cell_type": "code",
      "metadata": {
        "id": "retained-lesson"
      },
      "source": [
        "print(gpu, device)"
      ],
      "id": "retained-lesson",
      "execution_count": null,
      "outputs": []
    },
    {
      "cell_type": "code",
      "metadata": {
        "id": "caroline-miniature"
      },
      "source": [
        "if not os.path.exists(output_dir):\n",
        "    os.makedirs(output_dir)\n",
        "if not os.path.exists(fusion_output_dir):\n",
        "    os.makedirs(fusion_output_dir)"
      ],
      "id": "caroline-miniature",
      "execution_count": null,
      "outputs": []
    },
    {
      "cell_type": "code",
      "metadata": {
        "id": "iraqi-judge"
      },
      "source": [
        "seed = 42\n",
        "np.random.seed(seed)\n",
        "_ = torch.manual_seed(seed)"
      ],
      "id": "iraqi-judge",
      "execution_count": null,
      "outputs": []
    },
    {
      "cell_type": "markdown",
      "metadata": {
        "id": "killing-performance"
      },
      "source": [
        "# Load Dataset"
      ],
      "id": "killing-performance"
    },
    {
      "cell_type": "code",
      "metadata": {
        "id": "needed-eating"
      },
      "source": [
        "def load_images_from_folder(folder):\n",
        "    dataset = {}\n",
        "    for file in os.listdir(folder):\n",
        "        if \"noise\" in file and not use_noise_images:\n",
        "            continue\n",
        "        image = Image.open(os.path.join(folder, file))\n",
        "        dataset[file] = np.array(image)\n",
        "    print(f\"Loaded {len(dataset)} images.\")\n",
        "    return dataset"
      ],
      "id": "needed-eating",
      "execution_count": null,
      "outputs": []
    },
    {
      "cell_type": "code",
      "metadata": {
        "id": "smoking-abuse"
      },
      "source": [
        "train = load_images_from_folder(train_data_folder)"
      ],
      "id": "smoking-abuse",
      "execution_count": null,
      "outputs": []
    },
    {
      "cell_type": "code",
      "metadata": {
        "id": "marine-above"
      },
      "source": [
        "val = load_images_from_folder(val_data_folder)"
      ],
      "id": "marine-above",
      "execution_count": null,
      "outputs": []
    },
    {
      "cell_type": "code",
      "metadata": {
        "id": "honey-aside"
      },
      "source": [
        "test = load_images_from_folder(test_data_folder)"
      ],
      "id": "honey-aside",
      "execution_count": null,
      "outputs": []
    },
    {
      "cell_type": "markdown",
      "metadata": {
        "id": "desirable-commercial"
      },
      "source": [
        "# Visualize Some Examples"
      ],
      "id": "desirable-commercial"
    },
    {
      "cell_type": "code",
      "metadata": {
        "id": "returning-hampton"
      },
      "source": [
        "data = {\n",
        "    \"train\": train,\n",
        "    \"test\": test,\n",
        "    \"val\": val\n",
        "}"
      ],
      "id": "returning-hampton",
      "execution_count": null,
      "outputs": []
    },
    {
      "cell_type": "code",
      "metadata": {
        "id": "weird-franchise"
      },
      "source": [
        "for i, dataset in enumerate(data.keys()):\n",
        "    keys = list(data[dataset].keys())\n",
        "    for j in range(2):\n",
        "        index = np.random.randint(0, len(data[dataset]))\n",
        "        axes = plt.subplot(2, 3, i+j*3+1)\n",
        "        plt.imshow(data[dataset][keys[index]])\n",
        "        axes.set_title(f\"{dataset} ({index})\")\n",
        "plt.tight_layout()"
      ],
      "id": "weird-franchise",
      "execution_count": null,
      "outputs": []
    },
    {
      "cell_type": "markdown",
      "metadata": {
        "id": "wired-fashion"
      },
      "source": [
        "# Make Datasets"
      ],
      "id": "wired-fashion"
    },
    {
      "cell_type": "code",
      "metadata": {
        "id": "stable-nylon"
      },
      "source": [
        "transform = transforms.Compose([\n",
        "    transforms.ToTensor(),\n",
        "    transforms.Resize(image_size, interpolation=transforms.InterpolationMode.BICUBIC),\n",
        "])"
      ],
      "id": "stable-nylon",
      "execution_count": null,
      "outputs": []
    },
    {
      "cell_type": "code",
      "metadata": {
        "id": "299FbeUJMHNw"
      },
      "source": [
        "class CustomDataset(torch.utils.data.Dataset):\n",
        "    def __init__(self, dataset, transform):\n",
        "        self.dataset = list(dataset.values())\n",
        "        self.keys = list(dataset.keys())\n",
        "        self.transform = transform\n",
        "        \n",
        "    def __getitem__(self, index):\n",
        "        data = self.dataset[index]\n",
        "        key = self.keys[index]\n",
        "        if self.transform is not None:\n",
        "            data = self.transform(data)\n",
        "        return key, data\n",
        "\n",
        "    def __len__(self):\n",
        "        return len(self.dataset)\n",
        "\n",
        "    def get_mapping(self):\n",
        "        return {key: i for i, key in enumerate(self.keys)}"
      ],
      "id": "299FbeUJMHNw",
      "execution_count": null,
      "outputs": []
    },
    {
      "cell_type": "code",
      "metadata": {
        "id": "EARGM4BEPoJm"
      },
      "source": [
        "train_data = CustomDataset(train, transform)\n",
        "val_data = CustomDataset(val, transform)\n",
        "test_data = CustomDataset(test, transform)"
      ],
      "id": "EARGM4BEPoJm",
      "execution_count": null,
      "outputs": []
    },
    {
      "cell_type": "markdown",
      "metadata": {
        "id": "fcumFc-ZVTEu"
      },
      "source": [
        "# Load Fusions"
      ],
      "id": "fcumFc-ZVTEu"
    },
    {
      "cell_type": "code",
      "metadata": {
        "id": "blHp-sxJ5fpB"
      },
      "source": [
        "class FusionDataset(torch.utils.data.Dataset):\n",
        "    def __init__(self, fusion_dataset_path, base_train_images, base_val_images, base_test_images, transform):\n",
        "        self.dataset_path = fusion_dataset_path\n",
        "        self.all_images = os.listdir(fusion_dataset_path)\n",
        "        self.transform = transform\n",
        "\n",
        "        self.base_dataset = [base_train_images, base_val_images, base_test_images]\n",
        "\n",
        "    def to_3_digit(self, num):\n",
        "        return \"0\" * (3 - len(num)) + num\n",
        "\n",
        "    def get_base_image(self, num, background):\n",
        "        # if Base BW is not there, search for female BW\n",
        "        filenames = [\n",
        "            f\"{num}_base_bw_{background}_0rotation.png\",\n",
        "            f\"{num}_base_female_bw_{background}_0rotation.png\"\n",
        "        ]\n",
        "        for dataset in self.base_dataset:\n",
        "            for filename in filenames:\n",
        "                if filename in dataset:\n",
        "                    return dataset[filename], filename\n",
        "        return None, None\n",
        "        \n",
        "    def __getitem__(self, index):\n",
        "        fusion_filename = self.all_images[index]\n",
        "        # Get two base names\n",
        "        first, second, background, _ = fusion_filename.split('.')\n",
        "        first = self.to_3_digit(first)\n",
        "        second = self.to_3_digit(second)\n",
        "        # Get Base\n",
        "        image, base_filename = self.get_base_image(first, background)\n",
        "        base = self.transform(image)\n",
        "        # Get Fusee\n",
        "        image, fusee_filename = self.get_base_image(second, background)\n",
        "        fusee = self.transform(image)\n",
        "        # Get Fusion\n",
        "        fusion_loc = os.path.join(self.dataset_path, fusion_filename)\n",
        "        image = Image.open(fusion_loc).convert(\"RGB\")\n",
        "        fusion = self.transform(image)\n",
        "        return (base_filename, fusee_filename, fusion_filename), (base, fusee, fusion)\n",
        "\n",
        "    def __len__(self):\n",
        "        return len(self.all_images)"
      ],
      "id": "blHp-sxJ5fpB",
      "execution_count": null,
      "outputs": []
    },
    {
      "cell_type": "code",
      "metadata": {
        "id": "rSUg2VtcCyHy"
      },
      "source": [
        "train_fusions = FusionDataset(train_fusion_data_folder, train, val, test, transform)\n",
        "val_fusions = FusionDataset(val_fusion_data_folder, train, val, test, transform)\n",
        "test_fusions = FusionDataset(test_fusion_data_folder, train, val, test, transform)"
      ],
      "id": "rSUg2VtcCyHy",
      "execution_count": null,
      "outputs": []
    },
    {
      "cell_type": "markdown",
      "metadata": {
        "id": "oLc7TdO9Cbjr"
      },
      "source": [
        "Make Dataloaders"
      ],
      "id": "oLc7TdO9Cbjr"
    },
    {
      "cell_type": "code",
      "metadata": {
        "id": "automated-think"
      },
      "source": [
        "train_dataloader = torch.utils.data.DataLoader(\n",
        "    train_data, batch_size=batch_size, shuffle=True, num_workers=2, pin_memory=gpu\n",
        ")\n",
        "val_dataloader = torch.utils.data.DataLoader(\n",
        "    val_data, batch_size=batch_size, shuffle=True, num_workers=2, pin_memory=gpu\n",
        ")\n",
        "test_dataloader = torch.utils.data.DataLoader(\n",
        "    test_data, batch_size=batch_size, shuffle=True, num_workers=2, pin_memory=gpu\n",
        ")"
      ],
      "id": "automated-think",
      "execution_count": null,
      "outputs": []
    },
    {
      "cell_type": "code",
      "metadata": {
        "id": "Qsp4MS0eJWnq"
      },
      "source": [
        "train_fusion_dataloader = torch.utils.data.DataLoader(\n",
        "    train_fusions, batch_size=batch_size, shuffle=True, num_workers=2, pin_memory=gpu\n",
        ")\n",
        "val_fusion_dataloader = torch.utils.data.DataLoader(\n",
        "    val_fusions, batch_size=batch_size, shuffle=True, num_workers=2, pin_memory=gpu\n",
        ")\n",
        "test_fusion_dataloader = torch.utils.data.DataLoader(\n",
        "    test_fusions, batch_size=batch_size, shuffle=True, num_workers=2, pin_memory=gpu\n",
        ")"
      ],
      "id": "Qsp4MS0eJWnq",
      "execution_count": null,
      "outputs": []
    },
    {
      "cell_type": "markdown",
      "metadata": {
        "id": "improved-scholarship"
      },
      "source": [
        "# Visualize Again"
      ],
      "id": "improved-scholarship"
    },
    {
      "cell_type": "code",
      "metadata": {
        "id": "unexpected-boring"
      },
      "source": [
        "def make_grid(images, height, width, axis):\n",
        "    i, j = 0, 0\n",
        "    text, images = images\n",
        "    for num, image in enumerate(images):\n",
        "        if num == height * width:\n",
        "            break\n",
        "        axis[i,j].imshow(np.clip(np.asarray(image.permute(1, 2, 0)), 0, 1))\n",
        "        if j == width - 1:\n",
        "            j = 0\n",
        "            i += 1\n",
        "        else:\n",
        "            j += 1\n",
        "    if type(text) == int:\n",
        "        text = f\"Epoch: {text}\"\n",
        "    fig.suptitle(text, va=\"baseline\")\n",
        "    plt.tight_layout()\n",
        "    return axis"
      ],
      "id": "unexpected-boring",
      "execution_count": null,
      "outputs": []
    },
    {
      "cell_type": "code",
      "metadata": {
        "id": "urban-scanner"
      },
      "source": [
        "def get_samples_from_data(data, sample_size, fusion=False):\n",
        "    sample = []\n",
        "    for i in np.random.choice(len(data), size=sample_size, replace=False):\n",
        "        if fusion:\n",
        "            sample.append([np.asarray(x) for x in data[i][1]])\n",
        "        else:\n",
        "            sample.append(np.asarray(data[i][1]))\n",
        "    return torch.as_tensor(sample)"
      ],
      "id": "urban-scanner",
      "execution_count": null,
      "outputs": []
    },
    {
      "cell_type": "code",
      "metadata": {
        "id": "academic-passion"
      },
      "source": [
        "# Creating a sample set that we visualize every epoch to show the model's training\n",
        "sample = get_samples_from_data(val_data, 16, fusion=False)\n",
        "test_sample = get_samples_from_data(test_data, 16, fusion=False)\n",
        "fusion_sample = get_samples_from_data(val_fusions, 4, fusion=True)\n",
        "fusion_test_sample = get_samples_from_data(test_fusions, 4, fusion=True)"
      ],
      "id": "academic-passion",
      "execution_count": null,
      "outputs": []
    },
    {
      "cell_type": "code",
      "metadata": {
        "id": "therapeutic-adrian"
      },
      "source": [
        "fig, axis = plt.subplots(4, 4, figsize=(8, 6), dpi=80)\n",
        "plt.tight_layout()\n",
        "_ = make_grid((\"Sample\", sample), 4, 4, axis)"
      ],
      "id": "therapeutic-adrian",
      "execution_count": null,
      "outputs": []
    },
    {
      "cell_type": "code",
      "metadata": {
        "id": "P2fxunW8j6QS"
      },
      "source": [
        "fig, axis = plt.subplots(4, 3, figsize=(8, 6), dpi=80)\n",
        "plt.tight_layout()\n",
        "_ = make_grid((\"Fusion Sample\", [x for y in fusion_sample for x in y]), 4, 3, axis)"
      ],
      "id": "P2fxunW8j6QS",
      "execution_count": null,
      "outputs": []
    },
    {
      "cell_type": "markdown",
      "metadata": {
        "id": "premier-marathon"
      },
      "source": [
        "# Model Time"
      ],
      "id": "premier-marathon"
    },
    {
      "cell_type": "code",
      "metadata": {
        "id": "expressed-exception"
      },
      "source": [
        "# Ref: https://github.com/sksq96/pytorch-vae/blob/master/vae-cnn.ipynb\n",
        "class ConvolutionalAE(nn.Module):\n",
        "    def __init__(self, image_channels=3, max_filters=512, num_layers=4, kernel_size=2, stride=2, \n",
        "                 padding=0, latent_dim=128, input_image_dimensions=96, small_conv=False):\n",
        "        super(ConvolutionalAE, self).__init__()\n",
        "        if small_conv:\n",
        "            num_layers += 1\n",
        "        channel_sizes = self.calculate_channel_sizes(image_channels, max_filters, num_layers)\n",
        "\n",
        "        # Encoder\n",
        "        encoder_layers = nn.ModuleList()\n",
        "        # Encoder Convolutions\n",
        "        for i, (in_channels, out_channels) in enumerate(channel_sizes):\n",
        "            if small_conv and i == 0:\n",
        "                # 1x1 Convolution\n",
        "                encoder_layers.append(\n",
        "                    nn.Conv2d(\n",
        "                        in_channels=in_channels, out_channels=out_channels, kernel_size=1, \n",
        "                        stride=1, padding=0\n",
        "                    )\n",
        "                )\n",
        "            else:\n",
        "                # Convolutional Layer\n",
        "                encoder_layers.append(\n",
        "                    nn.Conv2d(\n",
        "                        in_channels=in_channels, out_channels=out_channels, kernel_size=kernel_size, \n",
        "                        stride=stride, padding=padding, bias=False\n",
        "                    )\n",
        "                )\n",
        "            # Batch Norm\n",
        "            encoder_layers.append(nn.BatchNorm2d(out_channels))\n",
        "            # ReLU\n",
        "            encoder_layers.append(nn.ReLU())\n",
        "        # Flatten Encoder Output\n",
        "        encoder_layers.append(nn.Flatten())\n",
        "        \n",
        "        # Calculate shape of the flattened image\n",
        "        hidden_dim, image_size = self.get_flattened_size(input_image_dimensions, encoder_layers)\n",
        "\n",
        "        # Hidden Dim -> Latent Dim\n",
        "        encoder_layers.append(nn.Linear(hidden_dim, latent_dim))\n",
        "        encoder_layers.append(nn.Sigmoid())\n",
        "        self.encoder = nn.Sequential(*encoder_layers)\n",
        "        \n",
        "        # Decoder\n",
        "        decoder_layers = nn.ModuleList()\n",
        "        # Latent Dim -> Hidden Dim\n",
        "        decoder_layers.append(nn.Linear(latent_dim, hidden_dim))\n",
        "        decoder_layers.append(nn.Sigmoid())\n",
        "        # Unflatten to a shape of (Channels, Height, Width)\n",
        "        decoder_layers.append(nn.Unflatten(1, (max_filters, image_size, image_size)))\n",
        "        # Decoder Convolutions\n",
        "        for i, (out_channels, in_channels) in enumerate(channel_sizes[::-1]):\n",
        "            if small_conv and i == num_layers - 1:\n",
        "                # 1x1 Transposed Convolution\n",
        "                decoder_layers.append(\n",
        "                    nn.ConvTranspose2d(\n",
        "                        in_channels=in_channels, out_channels=out_channels, kernel_size=1, \n",
        "                        stride=1, padding=0\n",
        "                    )\n",
        "                )\n",
        "            else:\n",
        "                # Add Transposed Convolutional Layer\n",
        "                decoder_layers.append(\n",
        "                    nn.ConvTranspose2d(\n",
        "                        in_channels=in_channels, out_channels=out_channels, kernel_size=kernel_size, \n",
        "                        stride=stride, padding=padding, bias=False\n",
        "                    )\n",
        "                )\n",
        "            # Batch Norm\n",
        "            decoder_layers.append(nn.BatchNorm2d(out_channels))\n",
        "            # ReLU if not final layer\n",
        "            if i != num_layers - 1:\n",
        "                decoder_layers.append(nn.ReLU())\n",
        "            # Sigmoid if final layer\n",
        "            else:\n",
        "                decoder_layers.append(nn.Sigmoid())\n",
        "        self.decoder = nn.Sequential(*decoder_layers) \n",
        "        \n",
        "    def calculate_layer_size(self, input_size, kernel_size, stride, padding=0):\n",
        "        numerator = input_size - kernel_size + (2 * padding)\n",
        "        denominator = stride\n",
        "        return (numerator // denominator) + 1\n",
        "        \n",
        "    def get_flattened_size(self, image_size, encoder_layers):\n",
        "        for layer in encoder_layers:\n",
        "            if \"Conv2d\" in str(layer):\n",
        "                kernel_size = layer.kernel_size[0]\n",
        "                stride = layer.stride[0]\n",
        "                padding = layer.padding[0]\n",
        "                filters = layer.out_channels\n",
        "                image_size = self.calculate_layer_size(image_size, kernel_size, stride, padding)\n",
        "        return filters * image_size * image_size, image_size\n",
        "    \n",
        "    def calculate_channel_sizes(self, image_channels, max_filters, num_layers):\n",
        "        channel_sizes = [(image_channels, max_filters // np.power(2, num_layers - 1))]\n",
        "        for i in range(1, num_layers):\n",
        "            prev = channel_sizes[-1][-1]\n",
        "            new = prev * 2\n",
        "            channel_sizes.append((prev, new))\n",
        "        return channel_sizes\n",
        "        \n",
        "    def forward(self, x):\n",
        "        # Encode\n",
        "        hidden_state = self.encoder(x)\n",
        "        # Decode\n",
        "        reconstructed = self.decoder(hidden_state)\n",
        "        return reconstructed"
      ],
      "id": "expressed-exception",
      "execution_count": null,
      "outputs": []
    },
    {
      "cell_type": "markdown",
      "metadata": {
        "id": "proved-terrorism"
      },
      "source": [
        "# Training Time"
      ],
      "id": "proved-terrorism"
    },
    {
      "cell_type": "code",
      "metadata": {
        "id": "virtual-pocket"
      },
      "source": [
        "model = ConvolutionalAE(max_filters=max_filters, num_layers=num_layers, input_image_dimensions=image_size, latent_dim=latent_dim, small_conv=small_conv)\n",
        "model.load_state_dict(torch.load(pretrained_model_path, map_location=device))\n",
        "model.to(device)"
      ],
      "id": "virtual-pocket",
      "execution_count": null,
      "outputs": []
    },
    {
      "cell_type": "code",
      "metadata": {
        "id": "kjqhJd-FZ36J"
      },
      "source": [
        "def get_freezable_layers(model):\n",
        "    # Freeze Conv Layers\n",
        "    freezable_layers = []\n",
        "    for layer in model.encoder:\n",
        "        if \"Linear\" not in str(layer):\n",
        "            freezable_layers.append(layer)\n",
        "    for layer in model.decoder:\n",
        "        if \"Linear\" not in str(layer):\n",
        "            freezable_layers.append(layer)\n",
        "    return freezable_layers"
      ],
      "id": "kjqhJd-FZ36J",
      "execution_count": null,
      "outputs": []
    },
    {
      "cell_type": "code",
      "metadata": {
        "id": "gRDeDWrycQgV"
      },
      "source": [
        "def toggle_layer_freezing(layers, trainable):\n",
        "    for layer in layers:\n",
        "        layer.requires_grad_(trainable)"
      ],
      "id": "gRDeDWrycQgV",
      "execution_count": null,
      "outputs": []
    },
    {
      "cell_type": "code",
      "metadata": {
        "id": "ay44hZKk9KfQ"
      },
      "source": [
        "# Freeze Conv Layers\n",
        "if freeze_conv:\n",
        "    freezable_layers = get_freezable_layers(model)\n",
        "    toggle_layer_freezing(freezable_layers, trainable=False)"
      ],
      "id": "ay44hZKk9KfQ",
      "execution_count": null,
      "outputs": []
    },
    {
      "cell_type": "code",
      "metadata": {
        "id": "authentic-prerequisite"
      },
      "source": [
        "optimizer = torch.optim.Adam(model.parameters(), lr=learning_rate)\n",
        "criterion = nn.MSELoss(reduction='mean')"
      ],
      "id": "authentic-prerequisite",
      "execution_count": null,
      "outputs": []
    },
    {
      "cell_type": "code",
      "metadata": {
        "id": "accepted-height",
        "scrolled": false
      },
      "source": [
        "all_samples = []\n",
        "all_fusion_samples = []\n",
        "all_train_fusion_loss = []\n",
        "all_val_loss = []\n",
        "all_val_fusion_loss = []\n",
        "\n",
        "for epoch in range(epochs):\n",
        "    if freeze_conv and epoch == unfreeze_epoch:\n",
        "        toggle_layer_freezing(freezable_layers, trainable=True)\n",
        "\n",
        "    val_loss = 0\n",
        "    train_fusion_loss = 0\n",
        "    val_fusion_loss = 0\n",
        "\n",
        "    # Training Loop - Fusions\n",
        "    for iteration, batch in enumerate(tqdm(train_fusion_dataloader)):\n",
        "        # Reset gradients back to zero for this iteration\n",
        "        optimizer.zero_grad()\n",
        "\n",
        "        # Move batch to device\n",
        "        _, (base, fusee, fusion) = batch # Returns key, value for each Pokemon\n",
        "        base = base.to(device)\n",
        "        fusee = fusee.to(device)\n",
        "        fusion = fusion.to(device)\n",
        "\n",
        "        with torch.no_grad():\n",
        "            # Get Encoder Output\n",
        "            base_embedding = model.encoder(base)\n",
        "            fusee_embedding = model.encoder(fusee)\n",
        "            # Midpoint Embedding\n",
        "            midpoint_embedding = (base_embedding * 0.4) + (fusee_embedding * 0.6)\n",
        "\n",
        "        if fusion_mode == \"encoder\" or fusion_mode == \"both\":\n",
        "            # Run our model & get outputs\n",
        "            fusion_embedding = model.encoder(fusion)\n",
        "            # Calculate reconstruction loss: Midpoint Embedding vs Fusion Embedding\n",
        "            batch_loss = criterion(midpoint_embedding, fusion_embedding)\n",
        "\n",
        "        if fusion_mode == \"decoder\" or fusion_mode == \"both\":\n",
        "            # Run our model & get outputs\n",
        "            fusion_output = model.decoder(midpoint_embedding)   \n",
        "            # Calculate reconstruction loss: Midpoint Output vs Original Fusion\n",
        "            batch_loss = criterion(fusion, fusion_output)\n",
        "            # Backprop\n",
        "            batch_loss.backward()\n",
        "            # Add the batch's loss to the total loss for the epoch\n",
        "            train_fusion_loss += batch_loss.item()\n",
        "\n",
        "        # Update our optimizer parameters\n",
        "        # We call it out here instead of inside the if because\n",
        "        # the gradients are accumulated in case both conditions are true\n",
        "        optimizer.step()\n",
        "\n",
        "    # Validation Loop - Standard\n",
        "    with torch.no_grad():\n",
        "        for iteration, batch in enumerate(tqdm(val_dataloader)):\n",
        "            # Move batch to device\n",
        "            _, batch = batch # Returns key, value for each Pokemon\n",
        "            batch = batch.to(device)\n",
        "\n",
        "            # Run our model & get outputs\n",
        "            reconstructed = model(batch)\n",
        "\n",
        "            # Calculate reconstruction loss\n",
        "            batch_loss = criterion(batch, reconstructed)\n",
        "\n",
        "            # Add the batch's loss to the total loss for the epoch\n",
        "            val_loss += batch_loss.item()\n",
        "\n",
        "    # Validation Loop - Fusions\n",
        "    with torch.no_grad():\n",
        "        for iteration, batch in enumerate(tqdm(val_fusion_dataloader)):\n",
        "            # Move batch to device\n",
        "            _, (base, fusee, fusion) = batch # Returns key, value for each Pokemon\n",
        "            base = base.to(device)\n",
        "            fusee = fusee.to(device)\n",
        "            fusion = fusion.to(device)\n",
        "\n",
        "            # Get Encoder Output\n",
        "            base_embedding = model.encoder(base)\n",
        "            fusee_embedding = model.encoder(fusee)\n",
        "            # Midpoint Embedding\n",
        "            midpoint_embedding = (base_embedding * 0.4) + (fusee_embedding * 0.6)\n",
        "\n",
        "            if fusion_mode == \"encoder\" or fusion_mode == \"both\":\n",
        "                # Run our model & get outputs\n",
        "                fusion_embedding = model.encoder(fusion)\n",
        "                # Calculate reconstruction loss: Midpoint Embedding vs Fusion Embedding\n",
        "                batch_loss = criterion(midpoint_embedding, fusion_embedding)\n",
        "                # Add the batch's loss to the total loss for the epoch\n",
        "                val_fusion_loss += batch_loss.item()\n",
        "\n",
        "            if fusion_mode == \"decoder\" or fusion_mode == \"both\":\n",
        "                # Run our model & get outputs\n",
        "                fusion_output = model.decoder(midpoint_embedding)\n",
        "                # Calculate reconstruction loss: Midpoint Output vs Original Fusion\n",
        "                batch_loss = criterion(fusion, fusion_output)\n",
        "                # Add the batch's loss to the total loss for the epoch\n",
        "                val_fusion_loss += batch_loss.item()\n",
        "            \n",
        "    # Get Sample Outputs for the animation\n",
        "    with torch.no_grad():\n",
        "        # Get reconstruction of our normal Pokemon\n",
        "        epoch_sample = model(sample.to(device))\n",
        "\n",
        "        # Get example fusions\n",
        "        fusion_sample_base, fusion_sample_fusee, fusion_sample_fusion = fusion_sample[:, 0], fusion_sample[:, 1], fusion_sample[:, 2]\n",
        "        # Sample Fusion\n",
        "        fusion_sample_midpoint_embedding = (model.encoder(fusion_sample_base.to(device)) * 0.4) + (model.encoder(fusion_sample_fusee.to(device)) * 0.6)\n",
        "        fusion_sample_fusion = model.decoder(fusion_sample_midpoint_embedding.to(device))\n",
        "        # Sample Base Images\n",
        "        fusion_sample_base = model(fusion_sample_base.to(device))\n",
        "        fusion_sample_fusee = model(fusion_sample_fusee.to(device))\n",
        "        fusion_epoch_sample = torch.stack((fusion_sample_base, fusion_sample_fusee, fusion_sample_fusion), dim=1).flatten(end_dim=1)\n",
        "\n",
        "    # Add sample reconstruction to our list\n",
        "    all_samples.append(epoch_sample.detach().cpu())\n",
        "    all_fusion_samples.append(fusion_epoch_sample.detach().cpu())\n",
        "    \n",
        "    # Compute the average losses for this epoch\n",
        "    train_fusion_loss = train_fusion_loss / len(train_fusion_dataloader)\n",
        "    all_train_fusion_loss.append(train_fusion_loss)\n",
        "    \n",
        "    val_loss = val_loss / len(val_dataloader)\n",
        "    all_val_loss.append(val_loss)\n",
        "\n",
        "    val_fusion_loss = val_fusion_loss / len(val_fusion_dataloader)\n",
        "    all_val_fusion_loss.append(val_fusion_loss)\n",
        "    \n",
        "    # Print Metrics\n",
        "    print(\n",
        "        f\"\\nEpoch: {epoch+1}/{epochs}:\\\n",
        "        \\nVal Loss = {val_loss}\\\n",
        "        \\nTrain Fusion Loss = {train_fusion_loss}\\\n",
        "        \\nVal Fusion Loss = {val_fusion_loss}\"\n",
        "    )"
      ],
      "id": "accepted-height",
      "execution_count": null,
      "outputs": []
    },
    {
      "cell_type": "markdown",
      "metadata": {
        "id": "partial-building"
      },
      "source": [
        "# Visualize Training"
      ],
      "id": "partial-building"
    },
    {
      "cell_type": "code",
      "metadata": {
        "id": "accessible-grenada",
        "scrolled": false
      },
      "source": [
        "# Plot Original Image\n",
        "fig, axis = plt.subplots(4, 4, figsize=(8, 6), dpi=80)\n",
        "plt.tight_layout()\n",
        "_ = make_grid((\"Sample\", sample), 4, 4, axis)"
      ],
      "id": "accessible-grenada",
      "execution_count": null,
      "outputs": []
    },
    {
      "cell_type": "code",
      "metadata": {
        "id": "tough-wales",
        "scrolled": false
      },
      "source": [
        "    fig, axis = plt.subplots(4, 4, figsize=(8, 6), dpi=80)\n",
        "plt.tight_layout()\n",
        "plt.close()\n",
        "anim = animation.FuncAnimation(fig=fig, func=make_grid, frames=list(enumerate(all_samples)), \n",
        "                               fargs=(4, 4, axis), interval=100, repeat=False)"
      ],
      "id": "tough-wales",
      "execution_count": null,
      "outputs": []
    },
    {
      "cell_type": "code",
      "metadata": {
        "id": "played-great",
        "scrolled": false
      },
      "source": [
        "HTML(anim.to_html5_video())"
      ],
      "id": "played-great",
      "execution_count": null,
      "outputs": []
    },
    {
      "cell_type": "code",
      "metadata": {
        "id": "xYc6kh3fQyo8"
      },
      "source": [
        "fig, axis = plt.subplots(4, 3, figsize=(8, 6), dpi=80)\n",
        "plt.tight_layout()\n",
        "_ = make_grid((\"Fusion Sample\", [x for y in fusion_sample for x in y]), 4, 3, axis)"
      ],
      "id": "xYc6kh3fQyo8",
      "execution_count": null,
      "outputs": []
    },
    {
      "cell_type": "code",
      "metadata": {
        "id": "A57lXvqyQyg6"
      },
      "source": [
        "fig, axis = plt.subplots(4, 3, figsize=(8, 6), dpi=80)\n",
        "plt.tight_layout()\n",
        "plt.close()\n",
        "fusion_anim = animation.FuncAnimation(fig=fig, func=make_grid, frames=list(enumerate(all_fusion_samples)), \n",
        "                               fargs=(4, 3, axis), interval=100, repeat=False)"
      ],
      "id": "A57lXvqyQyg6",
      "execution_count": null,
      "outputs": []
    },
    {
      "cell_type": "code",
      "metadata": {
        "id": "VcBuJIdUQyb-"
      },
      "source": [
        "HTML(fusion_anim.to_html5_video())"
      ],
      "id": "VcBuJIdUQyb-",
      "execution_count": null,
      "outputs": []
    },
    {
      "cell_type": "markdown",
      "metadata": {
        "id": "lovely-mention"
      },
      "source": [
        "# Evaluation"
      ],
      "id": "lovely-mention"
    },
    {
      "cell_type": "code",
      "metadata": {
        "id": "covered-bedroom"
      },
      "source": [
        "model.eval()"
      ],
      "id": "covered-bedroom",
      "execution_count": null,
      "outputs": []
    },
    {
      "cell_type": "code",
      "metadata": {
        "id": "operating-blond"
      },
      "source": [
        "# Plot A Set of Test Images\n",
        "fig, axis = plt.subplots(4, 4, figsize=(8, 6), dpi=80)\n",
        "plt.tight_layout()\n",
        "_ = make_grid((\"Test Sample\", test_sample), 4, 4, axis)"
      ],
      "id": "operating-blond",
      "execution_count": null,
      "outputs": []
    },
    {
      "cell_type": "code",
      "metadata": {
        "id": "x-HJdedz_BLX"
      },
      "source": [
        "# Plot A Set of Test Fusion Images\n",
        "fig, axis = plt.subplots(4, 3, figsize=(8, 6), dpi=80)\n",
        "plt.tight_layout()\n",
        "_ = make_grid((\"Test Fusion Sample\", [x for y in fusion_test_sample for x in y]), 4, 3, axis)"
      ],
      "id": "x-HJdedz_BLX",
      "execution_count": null,
      "outputs": []
    },
    {
      "cell_type": "code",
      "metadata": {
        "id": "christian-cylinder"
      },
      "source": [
        "with torch.no_grad():\n",
        "    reconstructed = model(test_sample.to(device)).cpu().detach()\n",
        "\n",
        "    # Get reconstruction of our sample\n",
        "    fusion_sample_base, fusion_sample_fusee, fusion_sample_fusion = fusion_test_sample[:, 0], fusion_test_sample[:, 1], fusion_test_sample[:, 2]\n",
        "    # Sample Fusion\n",
        "    fusion_sample_midpoint_embedding = (model.encoder(fusion_sample_base.to(device)) * 0.4) + (model.encoder(fusion_sample_fusee.to(device)) * 0.6)\n",
        "    fusion_sample_fusion = model.decoder(fusion_sample_midpoint_embedding.to(device))\n",
        "    # Sample Base Images\n",
        "    fusion_sample_base = model(fusion_sample_base.to(device))\n",
        "    fusion_sample_fusee = model(fusion_sample_fusee.to(device))\n",
        "    fusion_test_sample_reconstruction = torch.stack((fusion_sample_base, fusion_sample_fusee, fusion_sample_fusion), dim=1).flatten(end_dim=1).cpu().detach()"
      ],
      "id": "christian-cylinder",
      "execution_count": null,
      "outputs": []
    },
    {
      "cell_type": "code",
      "metadata": {
        "id": "molecular-castle",
        "scrolled": false
      },
      "source": [
        "# Plot A Set of Test Images\n",
        "fig, axis = plt.subplots(4, 4, figsize=(8, 6), dpi=80)\n",
        "plt.tight_layout()\n",
        "_ = make_grid((\"Reconstructed Test\", reconstructed), 4, 4, axis)"
      ],
      "id": "molecular-castle",
      "execution_count": null,
      "outputs": []
    },
    {
      "cell_type": "code",
      "metadata": {
        "id": "-fb58nofAAUY"
      },
      "source": [
        "# Plot A Set of Test Fusion Images\n",
        "fig, axis = plt.subplots(4, 3, figsize=(8, 6), dpi=80)\n",
        "plt.tight_layout()\n",
        "_ = make_grid((\"Test Fusion Sample\", fusion_test_sample_reconstruction), 4, 3, axis)"
      ],
      "id": "-fb58nofAAUY",
      "execution_count": null,
      "outputs": []
    },
    {
      "cell_type": "markdown",
      "metadata": {
        "id": "7L3zynQlF1yE"
      },
      "source": [
        "# Compute Metrics & Save Outputs"
      ],
      "id": "7L3zynQlF1yE"
    },
    {
      "cell_type": "code",
      "metadata": {
        "id": "dense-escape"
      },
      "source": [
        "all_mse = []\n",
        "all_ssim = []\n",
        "\n",
        "# Testing Loop - Standard\n",
        "with torch.no_grad():\n",
        "    for iteration, batch in enumerate(tqdm(test_dataloader)):\n",
        "        # Move batch to device\n",
        "        filenames, image = batch\n",
        "        image = image.to(device)\n",
        "\n",
        "        # Run our model & get outputs\n",
        "        reconstructed = model(image)\n",
        "\n",
        "        # Calculate Metrics\n",
        "        mse = nn.functional.mse_loss(reconstructed, image)\n",
        "        ssim_score = ssim(reconstructed, image, data_range=1.0, win_size=11, win_sigma=1.5, K=(0.01, 0.03))\n",
        "\n",
        "        # Add metrics to tracking list\n",
        "        all_mse.append(mse.detach().cpu().numpy())\n",
        "        all_ssim.append(ssim_score.detach().cpu().numpy())\n",
        "       \n",
        "        # Save\n",
        "        reconstructed = reconstructed.permute(0, 2, 3, 1).detach().cpu().numpy()\n",
        "        for image, filename in zip(reconstructed, filenames):\n",
        "            plt.imsave(os.path.join(output_dir, filename), image)\n",
        "\n",
        "mse = np.asarray(all_mse).mean()\n",
        "ssim_score = np.asarray(all_ssim).mean()\n",
        "print(f\"\\nMSE = {mse}, SSIM = {ssim_score}\")"
      ],
      "id": "dense-escape",
      "execution_count": null,
      "outputs": []
    },
    {
      "cell_type": "code",
      "metadata": {
        "id": "PdFDubqQRhlU"
      },
      "source": [
        "# Testing Loop - Fusions\n",
        "all_mse = []\n",
        "all_mse_autoencoded = []\n",
        "all_ssim = []\n",
        "all_ssim_autoencoded = []\n",
        "with torch.no_grad():\n",
        "    for iteration, batch in enumerate(tqdm(test_fusion_dataloader)):\n",
        "        # Move batch to device\n",
        "        (base_filenames, fusee_filenames, fusion_filenames), (base, fusee, fusion) = batch # Returns key, value for each Pokemon\n",
        "        base = base.to(device)\n",
        "        fusee = fusee.to(device)\n",
        "        fusion = fusion.to(device)\n",
        "\n",
        "        # Run Model\n",
        "        # Get Encoder Output\n",
        "        base_embedding = model.encoder(base)\n",
        "        fusee_embedding = model.encoder(fusee)\n",
        "        # Midpoint Embedding\n",
        "        midpoint_embedding = (base_embedding * 0.4) + (fusee_embedding * 0.6)\n",
        "        # Get Output Fusion of combining two Pokemon \n",
        "        fusion_fused_output = model.decoder(midpoint_embedding)\n",
        "        # Get output of autoencoder on fusion\n",
        "        fusion_ae_output = model(fusion)\n",
        "\n",
        "        # Calculate Metrics\n",
        "        # Print Metrics - Fusion vs Input Fusion\n",
        "        mse = nn.functional.mse_loss(fusion_fused_output, fusion)\n",
        "        ssim_score = ssim(fusion_fused_output, fusion, data_range=1.0, win_size=11, win_sigma=1.5, K=(0.01, 0.03))\n",
        "        # Print Metrics - Fusion vs Autoencoded Fusion\n",
        "        mse_autoencoded = nn.functional.mse_loss(fusion_fused_output, fusion_ae_output)\n",
        "        ssim_score_autoencoded = ssim(fusion_fused_output, fusion_ae_output, data_range=1.0, win_size=11, win_sigma=1.5, K=(0.01, 0.03))\n",
        "\n",
        "        # Add metrics to tracking list\n",
        "        all_mse.append(mse.detach().cpu().numpy())\n",
        "        all_ssim.append(ssim_score.detach().cpu().numpy())\n",
        "        all_mse_autoencoded.append(mse_autoencoded.detach().cpu().numpy())\n",
        "        all_ssim_autoencoded.append(ssim_score_autoencoded.detach().cpu().numpy())\n",
        "\n",
        "        # Save\n",
        "        fusion_fused_output = fusion_fused_output.permute(0, 2, 3, 1).detach().cpu().numpy()\n",
        "        for image, filename in zip(fusion_fused_output, fusion_filenames):\n",
        "            plt.imsave(os.path.join(fusion_output_dir, filename), image)\n",
        "\n",
        "mse = np.asarray(all_mse).mean()\n",
        "ssim_score = np.asarray(all_ssim).mean() \n",
        "mse_autoencoded = np.asarray(all_mse_autoencoded).mean()\n",
        "ssim_score_autoencoded = np.asarray(all_ssim_autoencoded).mean()\n",
        "print(f\"\\nFusion vs Input Fusion:\\nMSE = {mse}, SSIM = {ssim_score}\")\n",
        "print(f\"\\nFusion vs Autoencoded Fusion\\nMSE = {mse_autoencoded}, SSIM = {ssim_score_autoencoded}\")"
      ],
      "id": "PdFDubqQRhlU",
      "execution_count": null,
      "outputs": []
    },
    {
      "cell_type": "markdown",
      "metadata": {
        "id": "HXqBt5rb-5TQ"
      },
      "source": [
        "# Save Loss Graph"
      ],
      "id": "HXqBt5rb-5TQ"
    },
    {
      "cell_type": "code",
      "metadata": {
        "id": "recent-morris"
      },
      "source": [
        "plt.figure(figsize=(8, 6), dpi=100)\n",
        "ax = plt.subplot()\n",
        "plt.plot([x for x in all_val_loss], label=\"Validation Loss\")\n",
        "ax.set_xlabel(\"Epoch\")\n",
        "ax.set_ylabel(\"Loss\")\n",
        "plt.legend()\n",
        "plt.tight_layout()\n",
        "plt.savefig(loss_output_path)"
      ],
      "id": "recent-morris",
      "execution_count": null,
      "outputs": []
    },
    {
      "cell_type": "code",
      "metadata": {
        "id": "xUSNaWRj0kPQ"
      },
      "source": [
        "plt.figure(figsize=(8, 6), dpi=100)\n",
        "ax = plt.subplot()\n",
        "plt.plot([x for x in all_train_fusion_loss], label=\"Fusion Train Loss\")\n",
        "plt.plot([x for x in all_val_fusion_loss], label=\"Fusion Validation Loss\")\n",
        "ax.set_xlabel(\"Epoch\")\n",
        "ax.set_ylabel(\"Loss\")\n",
        "plt.legend()\n",
        "plt.tight_layout()\n",
        "plt.savefig(fusion_loss_output_path)"
      ],
      "id": "xUSNaWRj0kPQ",
      "execution_count": null,
      "outputs": []
    },
    {
      "cell_type": "markdown",
      "metadata": {
        "id": "artificial-usage"
      },
      "source": [
        "# Save Model"
      ],
      "id": "artificial-usage"
    },
    {
      "cell_type": "code",
      "metadata": {
        "id": "vocational-costume"
      },
      "source": [
        "torch.save(model.state_dict(), model_output_path)"
      ],
      "id": "vocational-costume",
      "execution_count": null,
      "outputs": []
    },
    {
      "cell_type": "markdown",
      "metadata": {
        "id": "demonstrated-strike"
      },
      "source": [
        "# Save Animation"
      ],
      "id": "demonstrated-strike"
    },
    {
      "cell_type": "code",
      "metadata": {
        "id": "likely-chair",
        "scrolled": false
      },
      "source": [
        "Writer = animation.writers['ffmpeg']\n",
        "writer = Writer()\n",
        "anim.save(animation_output_path, writer=writer)"
      ],
      "id": "likely-chair",
      "execution_count": null,
      "outputs": []
    },
    {
      "cell_type": "code",
      "metadata": {
        "id": "eX0uNloH-QYV"
      },
      "source": [
        "Writer = animation.writers['ffmpeg']\n",
        "writer = Writer()\n",
        "fusion_anim.save(fusion_animation_output_path, writer=writer)"
      ],
      "id": "eX0uNloH-QYV",
      "execution_count": null,
      "outputs": []
    },
    {
      "cell_type": "code",
      "metadata": {
        "id": "narrow-upset"
      },
      "source": [
        "output_prefix"
      ],
      "id": "narrow-upset",
      "execution_count": null,
      "outputs": []
    },
    {
      "cell_type": "code",
      "metadata": {
        "id": "A8P34wFXzV0f"
      },
      "source": [
        "ls /content/drive/MyDrive/CMPUT652_PCGML/outputs/finetune_fusion_autoencoder_v1"
      ],
      "id": "A8P34wFXzV0f",
      "execution_count": null,
      "outputs": []
    },
    {
      "cell_type": "code",
      "metadata": {
        "id": "NYes-b2s0TZZ"
      },
      "source": [
        "drive.flush_and_unmount()"
      ],
      "id": "NYes-b2s0TZZ",
      "execution_count": null,
      "outputs": []
    },
    {
      "cell_type": "code",
      "metadata": {
        "id": "y07aiMgp313h"
      },
      "source": [
        ""
      ],
      "id": "y07aiMgp313h",
      "execution_count": null,
      "outputs": []
    }
  ]
}