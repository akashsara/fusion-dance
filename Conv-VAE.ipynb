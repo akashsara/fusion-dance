{
  "nbformat": 4,
  "nbformat_minor": 5,
  "metadata": {
    "kernelspec": {
      "display_name": "Python 3",
      "language": "python",
      "name": "python3"
    },
    "language_info": {
      "codemirror_mode": {
        "name": "ipython",
        "version": 3
      },
      "file_extension": ".py",
      "mimetype": "text/x-python",
      "name": "python",
      "nbconvert_exporter": "python",
      "pygments_lexer": "ipython3",
      "version": "3.8.7"
    },
    "colab": {
      "name": "ConVAE.ipynb",
      "provenance": [],
      "collapsed_sections": []
    }
  },
  "cells": [
    {
      "cell_type": "code",
      "metadata": {
        "colab": {
          "base_uri": "https://localhost:8080/"
        },
        "id": "worst-point",
        "outputId": "cbfaaa55-e9d4-46bb-8400-c8998fff0ce1"
      },
      "source": [
        "import torch\n",
        "import torch.nn as nn\n",
        "from torchvision import transforms\n",
        "import numpy as np\n",
        "\n",
        "import matplotlib.pyplot as plt\n",
        "from matplotlib import animation \n",
        "from matplotlib import colors\n",
        "from PIL import Image\n",
        "\n",
        "from tqdm import tqdm\n",
        "\n",
        "import os\n",
        "\n",
        "from IPython.display import HTML\n",
        "\n",
        "!pip install pytorch_msssim\n",
        "from pytorch_msssim import ssim"
      ],
      "id": "worst-point",
      "execution_count": null,
      "outputs": []
    },
    {
      "cell_type": "code",
      "metadata": {
        "colab": {
          "base_uri": "https://localhost:8080/"
        },
        "id": "qc7Pb6Y-_xds",
        "outputId": "2c606e00-523b-49b8-b93b-f5f846373213"
      },
      "source": [
        "from google.colab import drive\n",
        "drive.mount(\"/content/drive/\")"
      ],
      "id": "qc7Pb6Y-_xds",
      "execution_count": null,
      "outputs": []
    },
    {
      "cell_type": "markdown",
      "metadata": {
        "id": "biblical-intelligence"
      },
      "source": [
        "# Config"
      ],
      "id": "biblical-intelligence"
    },
    {
      "cell_type": "code",
      "metadata": {
        "id": "psIMI609B0Bp",
        "colab": {
          "base_uri": "https://localhost:8080/"
        },
        "outputId": "734b81d8-9487-4216-d09c-f2398f1a1ac8"
      },
      "source": [
        "!unzip \"/content/drive/MyDrive/CMPUT652_PCGML/data/data.zip\" -d \"/content/\""
      ],
      "id": "psIMI609B0Bp",
      "execution_count": null,
      "outputs": []
    },
    {
      "cell_type": "code",
      "metadata": {
        "id": "cleared-decimal"
      },
      "source": [
        "learning_rate = 1e-4\n",
        "epochs = 25\n",
        "batch_size = 64\n",
        "\n",
        "experiment_name = f\"convolutional_vae_v4\"\n",
        "\n",
        "num_layers = 4\n",
        "max_filters = 512\n",
        "image_size = 64\n",
        "latent_dim = 1024\n",
        "use_noise_images = True\n",
        "small_conv = True # To use the 1x1 convolution layer\n",
        "\n",
        "data_prefix = \"/content\"\n",
        "train_data_folder = data_prefix + \"/train/\"\n",
        "val_data_folder = data_prefix + \"/val/\"\n",
        "test_data_folder = data_prefix + \"/test/\"\n",
        "\n",
        "output_prefix = f\"/content/drive/MyDrive/CMPUT652_PCGML/outputs/{experiment_name}\"\n",
        "output_dir = output_prefix + \"/generated/\"\n",
        "model_output_path = output_prefix + \"/model.pt\"\n",
        "animation_output_path = output_prefix + \"/animation.mp4\"\n",
        "loss_output_path = output_prefix + \"/loss.jpg\""
      ],
      "id": "cleared-decimal",
      "execution_count": null,
      "outputs": []
    },
    {
      "cell_type": "code",
      "metadata": {
        "id": "common-enough"
      },
      "source": [
        "gpu = torch.cuda.is_available()\n",
        "device = torch.device(\"cuda\" if gpu else \"cpu\")"
      ],
      "id": "common-enough",
      "execution_count": null,
      "outputs": []
    },
    {
      "cell_type": "code",
      "metadata": {
        "colab": {
          "base_uri": "https://localhost:8080/"
        },
        "id": "retained-lesson",
        "outputId": "e22e7195-e8de-4e63-9e13-7b647fd21521"
      },
      "source": [
        "print(gpu, device)"
      ],
      "id": "retained-lesson",
      "execution_count": null,
      "outputs": []
    },
    {
      "cell_type": "code",
      "metadata": {
        "id": "Ufpm4nQliWva"
      },
      "source": [
        "if not os.path.exists(output_dir):\n",
        "    os.makedirs(output_dir)"
      ],
      "id": "Ufpm4nQliWva",
      "execution_count": null,
      "outputs": []
    },
    {
      "cell_type": "code",
      "metadata": {
        "id": "iraqi-judge"
      },
      "source": [
        "seed = 42\n",
        "np.random.seed(seed)\n",
        "_ = torch.manual_seed(seed)"
      ],
      "id": "iraqi-judge",
      "execution_count": null,
      "outputs": []
    },
    {
      "cell_type": "markdown",
      "metadata": {
        "id": "killing-performance"
      },
      "source": [
        "# Load Dataset"
      ],
      "id": "killing-performance"
    },
    {
      "cell_type": "code",
      "metadata": {
        "id": "needed-eating"
      },
      "source": [
        "def load_images_from_folder(folder):\n",
        "    dataset = {}\n",
        "    for file in os.listdir( folder):\n",
        "        if \"noise\" in file and not use_noise_images:\n",
        "            continue\n",
        "        image = Image.open(os.path.join(folder, file))\n",
        "        dataset[file] = np.array(image)\n",
        "    print(f\"Loaded {len(dataset)} images.\")\n",
        "    return dataset"
      ],
      "id": "needed-eating",
      "execution_count": null,
      "outputs": []
    },
    {
      "cell_type": "code",
      "metadata": {
        "id": "smoking-abuse",
        "colab": {
          "base_uri": "https://localhost:8080/"
        },
        "outputId": "32349f00-4a7b-4594-c3e3-50a459bc749d"
      },
      "source": [
        "train = load_images_from_folder(train_data_folder)"
      ],
      "id": "smoking-abuse",
      "execution_count": null,
      "outputs": []
    },
    {
      "cell_type": "code",
      "metadata": {
        "id": "marine-above",
        "colab": {
          "base_uri": "https://localhost:8080/"
        },
        "outputId": "3c8b6693-05ba-4ec4-8cde-c8b83f6e3b59"
      },
      "source": [
        "val = load_images_from_folder(val_data_folder)"
      ],
      "id": "marine-above",
      "execution_count": null,
      "outputs": []
    },
    {
      "cell_type": "code",
      "metadata": {
        "id": "honey-aside",
        "colab": {
          "base_uri": "https://localhost:8080/"
        },
        "outputId": "9ad6b2fe-8ece-4c84-807c-82ab14b61112"
      },
      "source": [
        "test = load_images_from_folder(test_data_folder)"
      ],
      "id": "honey-aside",
      "execution_count": null,
      "outputs": []
    },
    {
      "cell_type": "markdown",
      "metadata": {
        "id": "desirable-commercial"
      },
      "source": [
        "# Visualize Some Examples"
      ],
      "id": "desirable-commercial"
    },
    {
      "cell_type": "code",
      "metadata": {
        "id": "returning-hampton"
      },
      "source": [
        "data = {\n",
        "    \"train\": train,\n",
        "    \"test\": test,\n",
        "    \"val\": val\n",
        "}"
      ],
      "id": "returning-hampton",
      "execution_count": null,
      "outputs": []
    },
    {
      "cell_type": "code",
      "metadata": {
        "colab": {
          "base_uri": "https://localhost:8080/",
          "height": 298
        },
        "id": "weird-franchise",
        "outputId": "875767bb-ff5c-4c65-9f1b-759028454b57"
      },
      "source": [
        "for i, dataset in enumerate(data.keys()):\n",
        "    keys = list(data[dataset].keys())\n",
        "    for j in range(2):\n",
        "        index = np.random.randint(0, len(data[dataset]))\n",
        "        axes = plt.subplot(2, 3, i+j*3+1)\n",
        "        plt.imshow(data[dataset][keys[index]])\n",
        "        axes.set_title(f\"{dataset} ({index})\")\n",
        "plt.tight_layout()"
      ],
      "id": "weird-franchise",
      "execution_count": null,
      "outputs": []
    },
    {
      "cell_type": "markdown",
      "metadata": {
        "id": "wired-fashion"
      },
      "source": [
        "# Preprocess Data"
      ],
      "id": "wired-fashion"
    },
    {
      "cell_type": "code",
      "metadata": {
        "id": "stable-nylon"
      },
      "source": [
        "transform = transforms.Compose([\n",
        "    transforms.ToTensor(),\n",
        "    transforms.Resize(image_size, interpolation=transforms.InterpolationMode.BICUBIC),\n",
        "])"
      ],
      "id": "stable-nylon",
      "execution_count": null,
      "outputs": []
    },
    {
      "cell_type": "code",
      "metadata": {
        "id": "numerical-twins"
      },
      "source": [
        "class CustomDataset(torch.utils.data.Dataset):\n",
        "    def __init__(self, dataset=None, transform=None):\n",
        "        self.dataset = list(dataset.values())\n",
        "        self.keys = list(dataset.keys())\n",
        "        self.transform = transform\n",
        "        \n",
        "    def __getitem__(self, index):\n",
        "        data = self.dataset[index]\n",
        "        key = self.keys[index]\n",
        "        if self.transform is not None:\n",
        "            data = self.transform(data)\n",
        "        return key, data\n",
        "\n",
        "    def __len__(self):\n",
        "        return len(self.dataset)"
      ],
      "id": "numerical-twins",
      "execution_count": null,
      "outputs": []
    },
    {
      "cell_type": "code",
      "metadata": {
        "id": "kge4zsaKKHeh"
      },
      "source": [
        "train_data = CustomDataset(train, transform)\n",
        "val_data = CustomDataset(val, transform)\n",
        "test_data = CustomDataset(test, transform)"
      ],
      "id": "kge4zsaKKHeh",
      "execution_count": null,
      "outputs": []
    },
    {
      "cell_type": "code",
      "metadata": {
        "id": "automated-think"
      },
      "source": [
        "train_dataloader = torch.utils.data.DataLoader(\n",
        "    train_data, batch_size=batch_size, shuffle=True, num_workers=2, pin_memory=gpu\n",
        ")\n",
        "val_dataloader = torch.utils.data.DataLoader(\n",
        "    val_data, batch_size=batch_size, shuffle=True, num_workers=2, pin_memory=gpu\n",
        ")\n",
        "test_dataloader = torch.utils.data.DataLoader(\n",
        "    test_data, batch_size=batch_size, shuffle=True, num_workers=2, pin_memory=gpu\n",
        ")"
      ],
      "id": "automated-think",
      "execution_count": null,
      "outputs": []
    },
    {
      "cell_type": "markdown",
      "metadata": {
        "id": "improved-scholarship"
      },
      "source": [
        "# Visualize Again"
      ],
      "id": "improved-scholarship"
    },
    {
      "cell_type": "code",
      "metadata": {
        "id": "unexpected-boring"
      },
      "source": [
        "def make_grid(images, height, width, axis):\n",
        "    i, j = 0, 0\n",
        "    text, images = images\n",
        "    for num, image in enumerate(images):\n",
        "        if num == height * width:\n",
        "            break\n",
        "        axis[i,j].imshow(np.asarray(image.permute(1, 2, 0)))\n",
        "        if j == width - 1:\n",
        "            j = 0\n",
        "            i += 1\n",
        "        else:\n",
        "            j += 1\n",
        "    if type(text) == int:\n",
        "        text = f\"Epoch: {text}\"\n",
        "    fig.suptitle(text, va=\"baseline\")\n",
        "    plt.tight_layout()\n",
        "    return axis"
      ],
      "id": "unexpected-boring",
      "execution_count": null,
      "outputs": []
    },
    {
      "cell_type": "code",
      "metadata": {
        "id": "serious-implement"
      },
      "source": [
        "def get_samples_from_data(data, sample_size):\n",
        "    sample = []\n",
        "    for i in np.random.choice(len(data), size=sample_size, replace=False):\n",
        "        sample.append(np.asarray(data[i][1]))\n",
        "    return torch.as_tensor(sample)"
      ],
      "id": "serious-implement",
      "execution_count": null,
      "outputs": []
    },
    {
      "cell_type": "code",
      "metadata": {
        "id": "academic-passion"
      },
      "source": [
        "# Creating a sample set that we visualize every epoch to show the model's training\n",
        "sample = get_samples_from_data(val_data, 16)\n",
        "test_sample = get_samples_from_data(test_data, 16)"
      ],
      "id": "academic-passion",
      "execution_count": null,
      "outputs": []
    },
    {
      "cell_type": "code",
      "metadata": {
        "colab": {
          "base_uri": "https://localhost:8080/",
          "height": 787
        },
        "id": "therapeutic-adrian",
        "outputId": "281187c3-9707-457e-f93a-41a737b15ec7"
      },
      "source": [
        "fig, axis = plt.subplots(4, 4, figsize=(8, 6), dpi=80)\n",
        "plt.tight_layout()\n",
        "_ = make_grid((\"Sample\", sample), 4, 4, axis)"
      ],
      "id": "therapeutic-adrian",
      "execution_count": null,
      "outputs": []
    },
    {
      "cell_type": "markdown",
      "metadata": {
        "id": "premier-marathon"
      },
      "source": [
        "# Model Time"
      ],
      "id": "premier-marathon"
    },
    {
      "cell_type": "code",
      "metadata": {
        "id": "expressed-exception"
      },
      "source": [
        "# Ref: https://github.com/sksq96/pytorch-vae/blob/master/vae-cnn.ipynb\n",
        "class ConvolutionalVAE(nn.Module):\n",
        "    def __init__(self, image_channels=3, max_filters=512, num_layers=4, kernel_size=2, stride=2, \n",
        "                 padding=0, latent_dim=128, input_image_dimensions=96, small_conv=False):\n",
        "        super(ConvolutionalVAE, self).__init__()\n",
        "        if small_conv:\n",
        "            num_layers += 1 \n",
        "        channel_sizes = self.calculate_channel_sizes(image_channels, max_filters, num_layers)\n",
        "\n",
        "        # Encoder\n",
        "        encoder_layers = nn.ModuleList()\n",
        "        # Encoder Convolutions\n",
        "        for i, (in_channels, out_channels) in enumerate(channel_sizes):\n",
        "            if small_conv and i == 0:\n",
        "                # 1x1 Convolution\n",
        "                encoder_layers.append(\n",
        "                    nn.Conv2d(\n",
        "                        in_channels=in_channels, out_channels=out_channels, kernel_size=1, \n",
        "                        stride=1, padding=0\n",
        "                    )\n",
        "                )\n",
        "            else:\n",
        "                # Convolutional Layer\n",
        "                encoder_layers.append(\n",
        "                    nn.Conv2d(\n",
        "                        in_channels=in_channels, out_channels=out_channels, kernel_size=kernel_size, \n",
        "                        stride=stride, padding=padding, bias=False\n",
        "                    )\n",
        "                )\n",
        "            # Batch Norm\n",
        "            encoder_layers.append(nn.BatchNorm2d(out_channels))\n",
        "            # ReLU\n",
        "            encoder_layers.append(nn.ReLU())\n",
        "        # Flatten Encoder Output\n",
        "        encoder_layers.append(nn.Flatten())\n",
        "        self.encoder = nn.Sequential(*encoder_layers)\n",
        "        \n",
        "        # Calculate shape of the flattened image\n",
        "        hidden_dim, image_size = self.get_flattened_size(input_image_dimensions)\n",
        "        \n",
        "        # Latent Space\n",
        "        self.fc_mu = nn.Linear(hidden_dim, latent_dim)\n",
        "        self.fc_log_var = nn.Linear(hidden_dim, latent_dim)\n",
        "        \n",
        "        # Decoder\n",
        "        decoder_layers = nn.ModuleList()\n",
        "        # Feedforward/Dense Layer to expand our latent dimensions\n",
        "        decoder_layers.append(nn.Linear(latent_dim, hidden_dim))\n",
        "        # Unflatten to a shape of (Channels, Height, Width)\n",
        "        decoder_layers.append(nn.Unflatten(1, (max_filters, image_size, image_size)))\n",
        "        # Decoder Convolutions\n",
        "        for i, (out_channels, in_channels) in enumerate(channel_sizes[::-1]):\n",
        "            if small_conv and i == num_layers - 1:\n",
        "                # 1x1 Transposed Convolution\n",
        "                decoder_layers.append(\n",
        "                    nn.ConvTranspose2d(\n",
        "                        in_channels=in_channels, out_channels=out_channels, kernel_size=1, \n",
        "                        stride=1, padding=0\n",
        "                    )\n",
        "                )\n",
        "            else:\n",
        "                # Add Transposed Convolutional Layer\n",
        "                decoder_layers.append(\n",
        "                    nn.ConvTranspose2d(\n",
        "                        in_channels=in_channels, out_channels=out_channels, kernel_size=kernel_size, \n",
        "                        stride=stride, padding=padding, bias=False\n",
        "                    )\n",
        "                )\n",
        "            # Batch Norm\n",
        "            decoder_layers.append(nn.BatchNorm2d(out_channels))\n",
        "            # ReLU if not final layer\n",
        "            if i != num_layers - 1:\n",
        "                decoder_layers.append(nn.ReLU())\n",
        "            # Sigmoid if final layer\n",
        "            else:\n",
        "                decoder_layers.append(nn.Sigmoid())\n",
        "        self.decoder = nn.Sequential(*decoder_layers) \n",
        "\n",
        "    def calculate_layer_size(self, input_size, kernel_size, stride, padding=0):\n",
        "        numerator = input_size - kernel_size + (2 * padding)\n",
        "        denominator = stride\n",
        "        return (numerator // denominator) + 1\n",
        "        \n",
        "    def get_flattened_size(self, image_size):\n",
        "        for layer in self.encoder:\n",
        "            if \"Conv2d\" in str(layer):\n",
        "                kernel_size = layer.kernel_size[0]\n",
        "                stride = layer.stride[0]\n",
        "                padding = layer.padding[0]\n",
        "                filters = layer.out_channels\n",
        "                image_size = self.calculate_layer_size(image_size, kernel_size, stride, padding)\n",
        "        return filters * image_size * image_size, image_size\n",
        "    \n",
        "    def calculate_channel_sizes(self, image_channels, max_filters, num_layers):\n",
        "        channel_sizes = [(image_channels, max_filters // np.power(2, num_layers - 1))]\n",
        "        for i in range(1, num_layers):\n",
        "            prev = channel_sizes[-1][-1]\n",
        "            new = prev * 2\n",
        "            channel_sizes.append((prev, new))\n",
        "        return channel_sizes\n",
        "        \n",
        "    def forward(self, x):\n",
        "        # Encode\n",
        "        hidden_state = self.encoder(x)\n",
        "        # Reparameterize\n",
        "        mu = self.fc_mu(hidden_state) \n",
        "        log_var = self.fc_log_var(hidden_state)\n",
        "        z = self.reparameterize(mu, log_var)\n",
        "        # Decode\n",
        "        reconstructed = self.decoder(z)\n",
        "        return reconstructed, mu, log_var\n",
        "    \n",
        "    def reparameterize(self, mu, log_var):\n",
        "        std = torch.exp(log_var.mul(0.5)) # log sqrt(x) = log x^0.5 = 0.5 log x\n",
        "        epsilon = torch.randn_like(mu)\n",
        "        z = mu + (epsilon * std)\n",
        "        return z"
      ],
      "id": "expressed-exception",
      "execution_count": null,
      "outputs": []
    },
    {
      "cell_type": "markdown",
      "metadata": {
        "id": "pressing-enlargement"
      },
      "source": [
        "# Loss Function\n",
        "\n",
        "Since this is a VAE, we also want to minimize the KL-Divergence between the latent vector Z and our input distribution.\n",
        "So we add the reconstruction loss + KL-Divergence to get our total loss."
      ],
      "id": "pressing-enlargement"
    },
    {
      "cell_type": "code",
      "metadata": {
        "id": "respected-assembly"
      },
      "source": [
        "def VAELoss(x, reconstructed_x, mu, log_var):\n",
        "    reconstruction_loss = nn.functional.mse_loss(reconstructed_x, x, reduction='sum')\n",
        "    KL_d = -0.5 * torch.sum(1 + log_var - mu.pow(2) - log_var.exp())\n",
        "    return reconstruction_loss + KL_d, reconstruction_loss, KL_d"
      ],
      "id": "respected-assembly",
      "execution_count": null,
      "outputs": []
    },
    {
      "cell_type": "markdown",
      "metadata": {
        "id": "proved-terrorism"
      },
      "source": [
        "# Training Time"
      ],
      "id": "proved-terrorism"
    },
    {
      "cell_type": "code",
      "metadata": {
        "colab": {
          "base_uri": "https://localhost:8080/"
        },
        "id": "virtual-pocket",
        "outputId": "d099f6ec-3f51-4084-fd4d-1f5dfc919c3c"
      },
      "source": [
        "model = ConvolutionalVAE(max_filters=max_filters, num_layers=num_layers, input_image_dimensions=image_size, latent_dim=latent_dim, small_conv=small_conv)\n",
        "model.to(device)"
      ],
      "id": "virtual-pocket",
      "execution_count": null,
      "outputs": []
    },
    {
      "cell_type": "code",
      "metadata": {
        "id": "authentic-prerequisite"
      },
      "source": [
        "optimizer = torch.optim.Adam(model.parameters(), lr=learning_rate)"
      ],
      "id": "authentic-prerequisite",
      "execution_count": null,
      "outputs": []
    },
    {
      "cell_type": "code",
      "metadata": {
        "scrolled": false,
        "colab": {
          "base_uri": "https://localhost:8080/"
        },
        "id": "accepted-height",
        "outputId": "cdd3f581-11e1-4481-8d86-2dfd3c67e696"
      },
      "source": [
        "all_samples = []\n",
        "all_train_loss = []\n",
        "all_val_loss = []\n",
        "\n",
        "for epoch in range(epochs):\n",
        "    train_loss = 0\n",
        "    train_recon_loss = 0\n",
        "    train_kl_d = 0\n",
        "    val_loss = 0\n",
        "    val_recon_loss = 0\n",
        "    val_kl_d = 0\n",
        "    \n",
        "    # Training Loop\n",
        "    for iteration, batch in enumerate(tqdm(train_dataloader)):\n",
        "        # Reset gradients back to zero for this iteration\n",
        "        optimizer.zero_grad()\n",
        "\n",
        "        # Move batch to device\n",
        "        _, batch = batch # Returns key, value for each Pokemon\n",
        "        batch = batch.to(device)\n",
        "\n",
        "        # Run our model & get outputs\n",
        "        reconstructed, mu, log_var = model(batch)\n",
        "\n",
        "        # Calculate reconstruction loss\n",
        "        batch_loss, batch_recon_loss, batch_kl_d = VAELoss(batch, reconstructed, mu, log_var)\n",
        "                  \n",
        "        # Backprop\n",
        "        batch_loss.backward()\n",
        "        \n",
        "        # Update our optimizer parameters\n",
        "        optimizer.step()\n",
        "        \n",
        "        # Add the batch's loss to the total loss for the epoch\n",
        "        train_loss += batch_loss.item()\n",
        "        train_recon_loss += batch_recon_loss.item()\n",
        "        train_kl_d += batch_kl_d.item()\n",
        "        \n",
        "    # Validation Loop\n",
        "    with torch.no_grad():\n",
        "        for iteration, batch in enumerate(tqdm(val_dataloader)):\n",
        "            # Move batch to device\n",
        "            _, batch = batch # Returns key, value for each Pokemon\n",
        "            batch = batch.to(device)\n",
        "\n",
        "            # Run our model & get outputs\n",
        "            reconstructed, mu, log_var = model(batch)\n",
        "\n",
        "            # Calculate reconstruction loss\n",
        "            batch_loss, batch_recon_loss, batch_kl_d = VAELoss(batch, reconstructed, mu, log_var)\n",
        "\n",
        "            # Add the batch's loss to the total loss for the epoch\n",
        "            val_loss += batch_loss.item()\n",
        "            val_recon_loss += batch_recon_loss.item()\n",
        "            val_kl_d += batch_kl_d.item()\n",
        "\n",
        "        # Get reconstruction of our sample\n",
        "        epoch_sample, _, _ = model(sample.to(device))\n",
        "\n",
        "    # Add sample reconstruction to our list\n",
        "    all_samples.append(epoch_sample.detach().cpu())\n",
        "    \n",
        "    # Compute the average losses for this epoch\n",
        "    train_loss = train_loss / len(train_dataloader)\n",
        "    train_recon_loss = train_recon_loss / len(train_dataloader)\n",
        "    train_kl_d = train_kl_d / len(train_dataloader)\n",
        "    all_train_loss.append((train_loss, train_recon_loss, train_kl_d))\n",
        "    \n",
        "    val_loss = val_loss / len(val_dataloader)\n",
        "    val_recon_loss = val_recon_loss / len(val_dataloader)\n",
        "    val_kl_d = val_kl_d / len(val_dataloader)\n",
        "    all_val_loss.append((val_loss, val_recon_loss, val_kl_d))\n",
        "    \n",
        "    # Print Metrics\n",
        "    print(\n",
        "        f\"\\nEpoch: {epoch+1}/{epochs}:\\\n",
        "        \\nTrain Loss = {train_loss}, Train Reconstruction Loss = {train_recon_loss}, Train KL Divergence = {train_kl_d}\\\n",
        "        \\nVal Loss = {val_loss}, Val Reconstruction Loss = {val_recon_loss}, Val KL Divergence = {val_kl_d}\"\n",
        "    )"
      ],
      "id": "accepted-height",
      "execution_count": null,
      "outputs": []
    },
    {
      "cell_type": "markdown",
      "metadata": {
        "id": "partial-building"
      },
      "source": [
        "# Visualize Training"
      ],
      "id": "partial-building"
    },
    {
      "cell_type": "code",
      "metadata": {
        "scrolled": false,
        "colab": {
          "base_uri": "https://localhost:8080/",
          "height": 787
        },
        "id": "accessible-grenada",
        "outputId": "14d3c7e0-43ed-4087-98a8-032091a78a24"
      },
      "source": [
        "# Plot Original Image\n",
        "fig, axis = plt.subplots(4, 4, figsize=(8, 6), dpi=80)\n",
        "plt.tight_layout()\n",
        "_ = make_grid((\"Sample\", sample), 4, 4, axis)"
      ],
      "id": "accessible-grenada",
      "execution_count": null,
      "outputs": []
    },
    {
      "cell_type": "code",
      "metadata": {
        "scrolled": false,
        "id": "tough-wales"
      },
      "source": [
        "fig, axis = plt.subplots(4, 4, figsize=(8, 6), dpi=80)\n",
        "plt.tight_layout()\n",
        "plt.close()\n",
        "anim = animation.FuncAnimation(fig=fig, func=make_grid, frames=list(enumerate(all_samples)), \n",
        "                               fargs=(4, 4, axis), interval=100, repeat=False)"
      ],
      "id": "tough-wales",
      "execution_count": null,
      "outputs": []
    },
    {
      "cell_type": "code",
      "metadata": {
        "id": "kRHQVALhmb9T",
        "colab": {
          "base_uri": "https://localhost:8080/",
          "height": 519
        },
        "outputId": "be23ff0f-79eb-419a-ca40-2169c11d2bdb"
      },
      "source": [
        "HTML(anim.to_html5_video())"
      ],
      "id": "kRHQVALhmb9T",
      "execution_count": null,
      "outputs": []
    },
    {
      "cell_type": "markdown",
      "metadata": {
        "id": "lovely-mention"
      },
      "source": [
        "# Evaluation"
      ],
      "id": "lovely-mention"
    },
    {
      "cell_type": "code",
      "metadata": {
        "colab": {
          "base_uri": "https://localhost:8080/"
        },
        "id": "covered-bedroom",
        "outputId": "ee1f5e33-a9ea-49fa-a3d5-55673392b51c"
      },
      "source": [
        "model.eval()"
      ],
      "id": "covered-bedroom",
      "execution_count": null,
      "outputs": []
    },
    {
      "cell_type": "code",
      "metadata": {
        "colab": {
          "base_uri": "https://localhost:8080/"
        },
        "id": "dense-escape",
        "outputId": "0b148179-328b-4129-978f-0a8a824cfa73"
      },
      "source": [
        "all_inputs = []\n",
        "all_outputs = []\n",
        "file_names = []\n",
        "\n",
        "# Testing Loop\n",
        "with torch.no_grad():\n",
        "    for iteration, batch in enumerate(tqdm(test_dataloader)):\n",
        "        # Move batch to device\n",
        "        filename, image = batch\n",
        "        image = image.to(device)\n",
        "\n",
        "        # Run our model & get outputs\n",
        "        reconstructed, _, _ = model(image)\n",
        "\n",
        "        all_inputs.extend(image.detach().cpu().numpy())\n",
        "        all_outputs.extend(reconstructed.detach().cpu().numpy())\n",
        "        file_names.extend(filename)\n",
        "        \n",
        "all_inputs = torch.as_tensor(all_inputs)\n",
        "all_outputs = torch.as_tensor(all_outputs)\n",
        "\n",
        "mse = nn.functional.mse_loss(all_outputs, all_inputs)\n",
        "ssim_score = ssim(all_outputs, all_inputs, data_range=1.0, win_size=11, win_sigma=1.5, K=(0.01, 0.03))\n",
        "\n",
        "# Print Metrics\n",
        "print(\n",
        "    f\"MSE = {mse}, SSIM = {ssim_score}\"\n",
        ")"
      ],
      "id": "dense-escape",
      "execution_count": null,
      "outputs": []
    },
    {
      "cell_type": "code",
      "metadata": {
        "colab": {
          "base_uri": "https://localhost:8080/",
          "height": 787
        },
        "id": "worldwide-mills",
        "outputId": "4302cc8e-171e-403d-a187-d07369862e62"
      },
      "source": [
        "# Plot A Set of Test Images\n",
        "fig, axis = plt.subplots(4, 4, figsize=(8, 6), dpi=80)\n",
        "plt.tight_layout()\n",
        "_ = make_grid((\"Test Sample\", test_sample), 4, 4, axis)"
      ],
      "id": "worldwide-mills",
      "execution_count": null,
      "outputs": []
    },
    {
      "cell_type": "code",
      "metadata": {
        "id": "champion-writer"
      },
      "source": [
        "with torch.no_grad():\n",
        "    reconstructed = model(test_sample.to(device))[0].detach().cpu()"
      ],
      "id": "champion-writer",
      "execution_count": null,
      "outputs": []
    },
    {
      "cell_type": "code",
      "metadata": {
        "scrolled": false,
        "colab": {
          "base_uri": "https://localhost:8080/",
          "height": 501
        },
        "id": "molecular-castle",
        "outputId": "a282cbfb-686e-43de-f797-4f3530a7d79b"
      },
      "source": [
        "# Plot A Set of Test Images\n",
        "fig, axis = plt.subplots(4, 4, figsize=(8, 6), dpi=80)\n",
        "plt.tight_layout()\n",
        "_ = make_grid((\"Reconstructed Test\", reconstructed), 4, 4, axis)"
      ],
      "id": "molecular-castle",
      "execution_count": null,
      "outputs": []
    },
    {
      "cell_type": "code",
      "metadata": {
        "id": "recent-morris",
        "colab": {
          "base_uri": "https://localhost:8080/",
          "height": 607
        },
        "outputId": "d89628de-cc06-4f01-9b3c-953ebf6d2233"
      },
      "source": [
        "plt.figure(figsize=(8, 6), dpi=100)\n",
        "ax = plt.subplot()\n",
        "plt.plot([x[1] for x in all_train_loss], label=\"Train Reconstruction Loss\")\n",
        "plt.plot([x[2] for x in all_train_loss], label=\"Train KL-Divergence\")\n",
        "plt.plot([x[1] for x in all_val_loss], label=\"Validation Reconstruction Loss\")\n",
        "plt.plot([x[2] for x in all_val_loss], label=\"Validation KL-Divergence\")\n",
        "ax.set_xlabel(\"Epoch\")\n",
        "ax.set_ylabel(\"Loss\")\n",
        "plt.legend()\n",
        "plt.tight_layout()\n",
        "plt.savefig(loss_output_path)"
      ],
      "id": "recent-morris",
      "execution_count": null,
      "outputs": []
    },
    {
      "cell_type": "markdown",
      "metadata": {
        "id": "artificial-usage"
      },
      "source": [
        "# Save Model"
      ],
      "id": "artificial-usage"
    },
    {
      "cell_type": "code",
      "metadata": {
        "id": "vocational-costume"
      },
      "source": [
        "torch.save(model.state_dict(), model_output_path)"
      ],
      "id": "vocational-costume",
      "execution_count": null,
      "outputs": []
    },
    {
      "cell_type": "markdown",
      "metadata": {
        "id": "hyHsnXXJjwJ0"
      },
      "source": [
        "# Save Generated Images"
      ],
      "id": "hyHsnXXJjwJ0"
    },
    {
      "cell_type": "code",
      "metadata": {
        "id": "casual-diana"
      },
      "source": [
        "all_outputs = all_outputs.permute(0, 2, 3, 1).numpy()\n",
        "for image, name in zip(all_outputs, file_names):\n",
        "    plt.imsave(os.path.join(output_dir, name), image)"
      ],
      "id": "casual-diana",
      "execution_count": null,
      "outputs": []
    },
    {
      "cell_type": "markdown",
      "metadata": {
        "id": "ee7A3J6BjwbI"
      },
      "source": [
        "# Save Animation"
      ],
      "id": "ee7A3J6BjwbI"
    },
    {
      "cell_type": "code",
      "metadata": {
        "id": "likely-chair",
        "colab": {
          "base_uri": "https://localhost:8080/",
          "height": 35
        },
        "outputId": "f37db66a-81e0-4891-c49b-36320d7560ec"
      },
      "source": [
        "Writer = animation.writers['ffmpeg']\n",
        "writer = Writer()\n",
        "anim.save(animation_output_path, writer=writer)"
      ],
      "id": "likely-chair",
      "execution_count": null,
      "outputs": []
    },
    {
      "cell_type": "code",
      "metadata": {
        "id": "d7xRxLbemwOO",
        "colab": {
          "base_uri": "https://localhost:8080/",
          "height": 36
        },
        "outputId": "4c4da61e-1272-4a62-cde7-7c23100eab7f"
      },
      "source": [
        "output_prefix"
      ],
      "id": "d7xRxLbemwOO",
      "execution_count": null,
      "outputs": []
    },
    {
      "cell_type": "code",
      "metadata": {
        "id": "Ix4pb-OlNnty",
        "colab": {
          "base_uri": "https://localhost:8080/"
        },
        "outputId": "8785a5ad-146e-46b9-d155-e40b827a1b4e"
      },
      "source": [
        "ls /content/drive/MyDrive/CMPUT652_PCGML/outputs/convolutional_vae_v4"
      ],
      "id": "Ix4pb-OlNnty",
      "execution_count": null,
      "outputs": []
    },
    {
      "cell_type": "code",
      "metadata": {
        "id": "oH6GMyHojlvX"
      },
      "source": [],
      "id": "oH6GMyHojlvX",
      "execution_count": null,
      "outputs": []
    }
  ]
}